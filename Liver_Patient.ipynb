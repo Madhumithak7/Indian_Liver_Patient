{
  "cells": [
    {
      "cell_type": "code",
      "execution_count": null,
      "id": "4c489342",
      "metadata": {
        "id": "4c489342"
      },
      "outputs": [],
      "source": [
        "import pandas as pd\n",
        "import matplotlib.pyplot as plt\n",
        "import plotly.express as px\n",
        "from sklearn.linear_model import LogisticRegression\n",
        "from copy import deepcopy\n",
        "import plotly.graph_objects as go\n",
        "import sklearn\n",
        "from sklearn import preprocessing\n",
        "from scipy.stats import pearsonr\n",
        "from sklearn.model_selection import train_test_split\n",
        "from sklearn.ensemble import RandomForestClassifier\n",
        "from sklearn.metrics import classification_report,confusion_matrix\n",
        "from sklearn.model_selection import cross_val_score , KFold\n",
        "from sklearn.metrics import mean_squared_error , mean_absolute_error\n",
        "from sklearn.metrics import accuracy_score\n",
        "import matplotlib.pyplot as plt\n",
        "%matplotlib inline\n",
        "import seaborn as sns"
      ]
    },
    {
      "cell_type": "code",
      "execution_count": null,
      "id": "03b2db88",
      "metadata": {
        "id": "03b2db88",
        "outputId": "04287d7b-80f2-4765-82b5-8ebc2b5e2255"
      },
      "outputs": [
        {
          "data": {
            "text/html": [
              "<div>\n",
              "<style scoped>\n",
              "    .dataframe tbody tr th:only-of-type {\n",
              "        vertical-align: middle;\n",
              "    }\n",
              "\n",
              "    .dataframe tbody tr th {\n",
              "        vertical-align: top;\n",
              "    }\n",
              "\n",
              "    .dataframe thead th {\n",
              "        text-align: right;\n",
              "    }\n",
              "</style>\n",
              "<table border=\"1\" class=\"dataframe\">\n",
              "  <thead>\n",
              "    <tr style=\"text-align: right;\">\n",
              "      <th></th>\n",
              "      <th>65</th>\n",
              "      <th>Female</th>\n",
              "      <th>0.7</th>\n",
              "      <th>0.1</th>\n",
              "      <th>187</th>\n",
              "      <th>16</th>\n",
              "      <th>18</th>\n",
              "      <th>6.8</th>\n",
              "      <th>3.3</th>\n",
              "      <th>0.9</th>\n",
              "      <th>1</th>\n",
              "    </tr>\n",
              "  </thead>\n",
              "  <tbody>\n",
              "    <tr>\n",
              "      <th>0</th>\n",
              "      <td>62</td>\n",
              "      <td>Male</td>\n",
              "      <td>10.9</td>\n",
              "      <td>5.5</td>\n",
              "      <td>699</td>\n",
              "      <td>64</td>\n",
              "      <td>100</td>\n",
              "      <td>7.5</td>\n",
              "      <td>3.2</td>\n",
              "      <td>0.74</td>\n",
              "      <td>1</td>\n",
              "    </tr>\n",
              "    <tr>\n",
              "      <th>1</th>\n",
              "      <td>62</td>\n",
              "      <td>Male</td>\n",
              "      <td>7.3</td>\n",
              "      <td>4.1</td>\n",
              "      <td>490</td>\n",
              "      <td>60</td>\n",
              "      <td>68</td>\n",
              "      <td>7.0</td>\n",
              "      <td>3.3</td>\n",
              "      <td>0.89</td>\n",
              "      <td>1</td>\n",
              "    </tr>\n",
              "    <tr>\n",
              "      <th>2</th>\n",
              "      <td>58</td>\n",
              "      <td>Male</td>\n",
              "      <td>1.0</td>\n",
              "      <td>0.4</td>\n",
              "      <td>182</td>\n",
              "      <td>14</td>\n",
              "      <td>20</td>\n",
              "      <td>6.8</td>\n",
              "      <td>3.4</td>\n",
              "      <td>1.00</td>\n",
              "      <td>1</td>\n",
              "    </tr>\n",
              "    <tr>\n",
              "      <th>3</th>\n",
              "      <td>72</td>\n",
              "      <td>Male</td>\n",
              "      <td>3.9</td>\n",
              "      <td>2.0</td>\n",
              "      <td>195</td>\n",
              "      <td>27</td>\n",
              "      <td>59</td>\n",
              "      <td>7.3</td>\n",
              "      <td>2.4</td>\n",
              "      <td>0.40</td>\n",
              "      <td>1</td>\n",
              "    </tr>\n",
              "    <tr>\n",
              "      <th>4</th>\n",
              "      <td>46</td>\n",
              "      <td>Male</td>\n",
              "      <td>1.8</td>\n",
              "      <td>0.7</td>\n",
              "      <td>208</td>\n",
              "      <td>19</td>\n",
              "      <td>14</td>\n",
              "      <td>7.6</td>\n",
              "      <td>4.4</td>\n",
              "      <td>1.30</td>\n",
              "      <td>1</td>\n",
              "    </tr>\n",
              "  </tbody>\n",
              "</table>\n",
              "</div>"
            ],
            "text/plain": [
              "   65 Female   0.7  0.1  187  16   18  6.8  3.3   0.9  1\n",
              "0  62   Male  10.9  5.5  699  64  100  7.5  3.2  0.74  1\n",
              "1  62   Male   7.3  4.1  490  60   68  7.0  3.3  0.89  1\n",
              "2  58   Male   1.0  0.4  182  14   20  6.8  3.4  1.00  1\n",
              "3  72   Male   3.9  2.0  195  27   59  7.3  2.4  0.40  1\n",
              "4  46   Male   1.8  0.7  208  19   14  7.6  4.4  1.30  1"
            ]
          },
          "execution_count": 54,
          "metadata": {},
          "output_type": "execute_result"
        }
      ],
      "source": [
        "df=pd.read_csv(\"Indian Liver Patient Dataset (ILPD).csv\")\n",
        "df.head()"
      ]
    },
    {
      "cell_type": "code",
      "execution_count": null,
      "id": "261131cc",
      "metadata": {
        "id": "261131cc",
        "outputId": "9eddcef1-7e05-4359-9e09-941645910d25"
      },
      "outputs": [
        {
          "name": "stdout",
          "output_type": "stream",
          "text": [
            "     age gender  Total_Bilirubin  Direct_Bilirubin  Alkaline_Phosphotase  \\\n",
            "0     62   Male             10.9               5.5                   699   \n",
            "1     62   Male              7.3               4.1                   490   \n",
            "2     58   Male              1.0               0.4                   182   \n",
            "3     72   Male              3.9               2.0                   195   \n",
            "4     46   Male              1.8               0.7                   208   \n",
            "..   ...    ...              ...               ...                   ...   \n",
            "577   60   Male              0.5               0.1                   500   \n",
            "578   40   Male              0.6               0.1                    98   \n",
            "579   52   Male              0.8               0.2                   245   \n",
            "580   31   Male              1.3               0.5                   184   \n",
            "581   38   Male              1.0               0.3                   216   \n",
            "\n",
            "     Alamine_Aminotransferase  Aspartate_Aminotransferase  Total_Protiens  \\\n",
            "0                          64                         100             7.5   \n",
            "1                          60                          68             7.0   \n",
            "2                          14                          20             6.8   \n",
            "3                          27                          59             7.3   \n",
            "4                          19                          14             7.6   \n",
            "..                        ...                         ...             ...   \n",
            "577                        20                          34             5.9   \n",
            "578                        35                          31             6.0   \n",
            "579                        48                          49             6.4   \n",
            "580                        29                          32             6.8   \n",
            "581                        21                          24             7.3   \n",
            "\n",
            "     Albumin  Albumin_and_Globulin_Ratio  Dataset  \n",
            "0        3.2                        0.74        1  \n",
            "1        3.3                        0.89        1  \n",
            "2        3.4                        1.00        1  \n",
            "3        2.4                        0.40        1  \n",
            "4        4.4                        1.30        1  \n",
            "..       ...                         ...      ...  \n",
            "577      1.6                        0.37        2  \n",
            "578      3.2                        1.10        1  \n",
            "579      3.2                        1.00        1  \n",
            "580      3.4                        1.00        1  \n",
            "581      4.4                        1.50        2  \n",
            "\n",
            "[582 rows x 11 columns]\n"
          ]
        }
      ],
      "source": [
        "# Define the mapping from current column names to new column names\n",
        "# Replace 'Current_Column_Name' with the actual column names in your CSV\n",
        "column_mapping = {\n",
        "    '65': 'age',\n",
        "    'Female': 'gender',\n",
        "    '0.7': 'Total_Bilirubin',\n",
        "    '0.1': 'Direct_Bilirubin',\n",
        "    '187': 'Alkaline_Phosphotase',\n",
        "    '16': 'Alamine_Aminotransferase',\n",
        "    '18': 'Aspartate_Aminotransferase',\n",
        "    '6.8': 'Total_Protiens',\n",
        "    '3.3': 'Albumin',\n",
        "    '0.9': 'Albumin_and_Globulin_Ratio',\n",
        "    '1': 'Dataset'\n",
        "}\n",
        "\n",
        "# Rename the columns\n",
        "df = df.rename(columns=column_mapping)\n",
        "\n",
        "# Display the DataFrame to verify the changes\n",
        "print(df)\n"
      ]
    },
    {
      "cell_type": "code",
      "execution_count": null,
      "id": "93babd7b",
      "metadata": {
        "id": "93babd7b",
        "outputId": "b3157acc-6d3c-4281-d4e6-6bdcdad23a79"
      },
      "outputs": [
        {
          "name": "stdout",
          "output_type": "stream",
          "text": [
            "number of variables 6402 \n",
            "number of instances 11\n"
          ]
        }
      ],
      "source": [
        "print(\"number of variables\",df.size, \"\\nnumber of instances\", len(df.columns))"
      ]
    },
    {
      "cell_type": "code",
      "execution_count": null,
      "id": "5d743663",
      "metadata": {
        "id": "5d743663",
        "outputId": "356e3ae7-0093-48ec-ff79-98e636bb1151"
      },
      "outputs": [
        {
          "data": {
            "text/html": [
              "<div>\n",
              "<style scoped>\n",
              "    .dataframe tbody tr th:only-of-type {\n",
              "        vertical-align: middle;\n",
              "    }\n",
              "\n",
              "    .dataframe tbody tr th {\n",
              "        vertical-align: top;\n",
              "    }\n",
              "\n",
              "    .dataframe thead th {\n",
              "        text-align: right;\n",
              "    }\n",
              "</style>\n",
              "<table border=\"1\" class=\"dataframe\">\n",
              "  <thead>\n",
              "    <tr style=\"text-align: right;\">\n",
              "      <th></th>\n",
              "      <th>age</th>\n",
              "      <th>gender</th>\n",
              "      <th>Total_Bilirubin</th>\n",
              "      <th>Direct_Bilirubin</th>\n",
              "      <th>Alkaline_Phosphotase</th>\n",
              "      <th>Alamine_Aminotransferase</th>\n",
              "      <th>Aspartate_Aminotransferase</th>\n",
              "      <th>Total_Protiens</th>\n",
              "      <th>Albumin</th>\n",
              "      <th>Albumin_and_Globulin_Ratio</th>\n",
              "      <th>Dataset</th>\n",
              "    </tr>\n",
              "  </thead>\n",
              "  <tbody>\n",
              "    <tr>\n",
              "      <th>count</th>\n",
              "      <td>582.000000</td>\n",
              "      <td>582</td>\n",
              "      <td>582.000000</td>\n",
              "      <td>582.000000</td>\n",
              "      <td>582.000000</td>\n",
              "      <td>582.000000</td>\n",
              "      <td>582.000000</td>\n",
              "      <td>582.000000</td>\n",
              "      <td>582.000000</td>\n",
              "      <td>578.000000</td>\n",
              "      <td>582.000000</td>\n",
              "    </tr>\n",
              "    <tr>\n",
              "      <th>unique</th>\n",
              "      <td>NaN</td>\n",
              "      <td>2</td>\n",
              "      <td>NaN</td>\n",
              "      <td>NaN</td>\n",
              "      <td>NaN</td>\n",
              "      <td>NaN</td>\n",
              "      <td>NaN</td>\n",
              "      <td>NaN</td>\n",
              "      <td>NaN</td>\n",
              "      <td>NaN</td>\n",
              "      <td>NaN</td>\n",
              "    </tr>\n",
              "    <tr>\n",
              "      <th>top</th>\n",
              "      <td>NaN</td>\n",
              "      <td>Male</td>\n",
              "      <td>NaN</td>\n",
              "      <td>NaN</td>\n",
              "      <td>NaN</td>\n",
              "      <td>NaN</td>\n",
              "      <td>NaN</td>\n",
              "      <td>NaN</td>\n",
              "      <td>NaN</td>\n",
              "      <td>NaN</td>\n",
              "      <td>NaN</td>\n",
              "    </tr>\n",
              "    <tr>\n",
              "      <th>freq</th>\n",
              "      <td>NaN</td>\n",
              "      <td>441</td>\n",
              "      <td>NaN</td>\n",
              "      <td>NaN</td>\n",
              "      <td>NaN</td>\n",
              "      <td>NaN</td>\n",
              "      <td>NaN</td>\n",
              "      <td>NaN</td>\n",
              "      <td>NaN</td>\n",
              "      <td>NaN</td>\n",
              "      <td>NaN</td>\n",
              "    </tr>\n",
              "    <tr>\n",
              "      <th>mean</th>\n",
              "      <td>44.711340</td>\n",
              "      <td>NaN</td>\n",
              "      <td>3.303265</td>\n",
              "      <td>1.488488</td>\n",
              "      <td>290.754296</td>\n",
              "      <td>80.824742</td>\n",
              "      <td>110.068729</td>\n",
              "      <td>6.482646</td>\n",
              "      <td>3.141581</td>\n",
              "      <td>0.947145</td>\n",
              "      <td>1.286942</td>\n",
              "    </tr>\n",
              "    <tr>\n",
              "      <th>std</th>\n",
              "      <td>16.181921</td>\n",
              "      <td>NaN</td>\n",
              "      <td>6.213926</td>\n",
              "      <td>2.810324</td>\n",
              "      <td>243.108929</td>\n",
              "      <td>182.757696</td>\n",
              "      <td>289.141876</td>\n",
              "      <td>1.086306</td>\n",
              "      <td>0.796176</td>\n",
              "      <td>0.319863</td>\n",
              "      <td>0.452723</td>\n",
              "    </tr>\n",
              "    <tr>\n",
              "      <th>min</th>\n",
              "      <td>4.000000</td>\n",
              "      <td>NaN</td>\n",
              "      <td>0.400000</td>\n",
              "      <td>0.100000</td>\n",
              "      <td>63.000000</td>\n",
              "      <td>10.000000</td>\n",
              "      <td>10.000000</td>\n",
              "      <td>2.700000</td>\n",
              "      <td>0.900000</td>\n",
              "      <td>0.300000</td>\n",
              "      <td>1.000000</td>\n",
              "    </tr>\n",
              "    <tr>\n",
              "      <th>25%</th>\n",
              "      <td>33.000000</td>\n",
              "      <td>NaN</td>\n",
              "      <td>0.800000</td>\n",
              "      <td>0.200000</td>\n",
              "      <td>175.250000</td>\n",
              "      <td>23.000000</td>\n",
              "      <td>25.000000</td>\n",
              "      <td>5.800000</td>\n",
              "      <td>2.600000</td>\n",
              "      <td>0.700000</td>\n",
              "      <td>1.000000</td>\n",
              "    </tr>\n",
              "    <tr>\n",
              "      <th>50%</th>\n",
              "      <td>45.000000</td>\n",
              "      <td>NaN</td>\n",
              "      <td>1.000000</td>\n",
              "      <td>0.300000</td>\n",
              "      <td>208.000000</td>\n",
              "      <td>35.000000</td>\n",
              "      <td>42.000000</td>\n",
              "      <td>6.600000</td>\n",
              "      <td>3.100000</td>\n",
              "      <td>0.940000</td>\n",
              "      <td>1.000000</td>\n",
              "    </tr>\n",
              "    <tr>\n",
              "      <th>75%</th>\n",
              "      <td>57.750000</td>\n",
              "      <td>NaN</td>\n",
              "      <td>2.600000</td>\n",
              "      <td>1.300000</td>\n",
              "      <td>298.000000</td>\n",
              "      <td>60.750000</td>\n",
              "      <td>87.000000</td>\n",
              "      <td>7.200000</td>\n",
              "      <td>3.800000</td>\n",
              "      <td>1.100000</td>\n",
              "      <td>2.000000</td>\n",
              "    </tr>\n",
              "    <tr>\n",
              "      <th>max</th>\n",
              "      <td>90.000000</td>\n",
              "      <td>NaN</td>\n",
              "      <td>75.000000</td>\n",
              "      <td>19.700000</td>\n",
              "      <td>2110.000000</td>\n",
              "      <td>2000.000000</td>\n",
              "      <td>4929.000000</td>\n",
              "      <td>9.600000</td>\n",
              "      <td>5.500000</td>\n",
              "      <td>2.800000</td>\n",
              "      <td>2.000000</td>\n",
              "    </tr>\n",
              "  </tbody>\n",
              "</table>\n",
              "</div>"
            ],
            "text/plain": [
              "               age gender  Total_Bilirubin  Direct_Bilirubin  \\\n",
              "count   582.000000    582       582.000000        582.000000   \n",
              "unique         NaN      2              NaN               NaN   \n",
              "top            NaN   Male              NaN               NaN   \n",
              "freq           NaN    441              NaN               NaN   \n",
              "mean     44.711340    NaN         3.303265          1.488488   \n",
              "std      16.181921    NaN         6.213926          2.810324   \n",
              "min       4.000000    NaN         0.400000          0.100000   \n",
              "25%      33.000000    NaN         0.800000          0.200000   \n",
              "50%      45.000000    NaN         1.000000          0.300000   \n",
              "75%      57.750000    NaN         2.600000          1.300000   \n",
              "max      90.000000    NaN        75.000000         19.700000   \n",
              "\n",
              "        Alkaline_Phosphotase  Alamine_Aminotransferase  \\\n",
              "count             582.000000                582.000000   \n",
              "unique                   NaN                       NaN   \n",
              "top                      NaN                       NaN   \n",
              "freq                     NaN                       NaN   \n",
              "mean              290.754296                 80.824742   \n",
              "std               243.108929                182.757696   \n",
              "min                63.000000                 10.000000   \n",
              "25%               175.250000                 23.000000   \n",
              "50%               208.000000                 35.000000   \n",
              "75%               298.000000                 60.750000   \n",
              "max              2110.000000               2000.000000   \n",
              "\n",
              "        Aspartate_Aminotransferase  Total_Protiens     Albumin  \\\n",
              "count                   582.000000      582.000000  582.000000   \n",
              "unique                         NaN             NaN         NaN   \n",
              "top                            NaN             NaN         NaN   \n",
              "freq                           NaN             NaN         NaN   \n",
              "mean                    110.068729        6.482646    3.141581   \n",
              "std                     289.141876        1.086306    0.796176   \n",
              "min                      10.000000        2.700000    0.900000   \n",
              "25%                      25.000000        5.800000    2.600000   \n",
              "50%                      42.000000        6.600000    3.100000   \n",
              "75%                      87.000000        7.200000    3.800000   \n",
              "max                    4929.000000        9.600000    5.500000   \n",
              "\n",
              "        Albumin_and_Globulin_Ratio     Dataset  \n",
              "count                   578.000000  582.000000  \n",
              "unique                         NaN         NaN  \n",
              "top                            NaN         NaN  \n",
              "freq                           NaN         NaN  \n",
              "mean                      0.947145    1.286942  \n",
              "std                       0.319863    0.452723  \n",
              "min                       0.300000    1.000000  \n",
              "25%                       0.700000    1.000000  \n",
              "50%                       0.940000    1.000000  \n",
              "75%                       1.100000    2.000000  \n",
              "max                       2.800000    2.000000  "
            ]
          },
          "execution_count": 57,
          "metadata": {},
          "output_type": "execute_result"
        }
      ],
      "source": [
        "df.describe(include=\"all\")"
      ]
    },
    {
      "cell_type": "code",
      "execution_count": null,
      "id": "e3d17661",
      "metadata": {
        "id": "e3d17661",
        "outputId": "034402f5-57d8-4a34-d6a5-bfdcbbb5d1c0"
      },
      "outputs": [
        {
          "name": "stdout",
          "output_type": "stream",
          "text": [
            "<class 'pandas.core.frame.DataFrame'>\n",
            "RangeIndex: 582 entries, 0 to 581\n",
            "Data columns (total 11 columns):\n",
            " #   Column                      Non-Null Count  Dtype  \n",
            "---  ------                      --------------  -----  \n",
            " 0   age                         582 non-null    int64  \n",
            " 1   gender                      582 non-null    object \n",
            " 2   Total_Bilirubin             582 non-null    float64\n",
            " 3   Direct_Bilirubin            582 non-null    float64\n",
            " 4   Alkaline_Phosphotase        582 non-null    int64  \n",
            " 5   Alamine_Aminotransferase    582 non-null    int64  \n",
            " 6   Aspartate_Aminotransferase  582 non-null    int64  \n",
            " 7   Total_Protiens              582 non-null    float64\n",
            " 8   Albumin                     582 non-null    float64\n",
            " 9   Albumin_and_Globulin_Ratio  578 non-null    float64\n",
            " 10  Dataset                     582 non-null    int64  \n",
            "dtypes: float64(5), int64(5), object(1)\n",
            "memory usage: 50.1+ KB\n"
          ]
        }
      ],
      "source": [
        "df.info()"
      ]
    },
    {
      "cell_type": "code",
      "execution_count": null,
      "id": "5087d01f",
      "metadata": {
        "id": "5087d01f",
        "outputId": "c41ac833-029f-4b7c-a99f-06526f323c08"
      },
      "outputs": [
        {
          "data": {
            "text/html": [
              "<div>\n",
              "<style scoped>\n",
              "    .dataframe tbody tr th:only-of-type {\n",
              "        vertical-align: middle;\n",
              "    }\n",
              "\n",
              "    .dataframe tbody tr th {\n",
              "        vertical-align: top;\n",
              "    }\n",
              "\n",
              "    .dataframe thead th {\n",
              "        text-align: right;\n",
              "    }\n",
              "</style>\n",
              "<table border=\"1\" class=\"dataframe\">\n",
              "  <thead>\n",
              "    <tr style=\"text-align: right;\">\n",
              "      <th></th>\n",
              "      <th>age</th>\n",
              "      <th>gender</th>\n",
              "      <th>Total_Bilirubin</th>\n",
              "      <th>Direct_Bilirubin</th>\n",
              "      <th>Alkaline_Phosphotase</th>\n",
              "      <th>Alamine_Aminotransferase</th>\n",
              "      <th>Aspartate_Aminotransferase</th>\n",
              "      <th>Total_Protiens</th>\n",
              "      <th>Albumin</th>\n",
              "      <th>Albumin_and_Globulin_Ratio</th>\n",
              "      <th>Dataset</th>\n",
              "    </tr>\n",
              "  </thead>\n",
              "  <tbody>\n",
              "    <tr>\n",
              "      <th>208</th>\n",
              "      <td>45</td>\n",
              "      <td>Female</td>\n",
              "      <td>0.9</td>\n",
              "      <td>0.3</td>\n",
              "      <td>189</td>\n",
              "      <td>23</td>\n",
              "      <td>33</td>\n",
              "      <td>6.6</td>\n",
              "      <td>3.9</td>\n",
              "      <td>NaN</td>\n",
              "      <td>1</td>\n",
              "    </tr>\n",
              "    <tr>\n",
              "      <th>240</th>\n",
              "      <td>51</td>\n",
              "      <td>Male</td>\n",
              "      <td>0.8</td>\n",
              "      <td>0.2</td>\n",
              "      <td>230</td>\n",
              "      <td>24</td>\n",
              "      <td>46</td>\n",
              "      <td>6.5</td>\n",
              "      <td>3.1</td>\n",
              "      <td>NaN</td>\n",
              "      <td>1</td>\n",
              "    </tr>\n",
              "    <tr>\n",
              "      <th>252</th>\n",
              "      <td>35</td>\n",
              "      <td>Female</td>\n",
              "      <td>0.6</td>\n",
              "      <td>0.2</td>\n",
              "      <td>180</td>\n",
              "      <td>12</td>\n",
              "      <td>15</td>\n",
              "      <td>5.2</td>\n",
              "      <td>2.7</td>\n",
              "      <td>NaN</td>\n",
              "      <td>2</td>\n",
              "    </tr>\n",
              "    <tr>\n",
              "      <th>311</th>\n",
              "      <td>27</td>\n",
              "      <td>Male</td>\n",
              "      <td>1.3</td>\n",
              "      <td>0.6</td>\n",
              "      <td>106</td>\n",
              "      <td>25</td>\n",
              "      <td>54</td>\n",
              "      <td>8.5</td>\n",
              "      <td>4.8</td>\n",
              "      <td>NaN</td>\n",
              "      <td>2</td>\n",
              "    </tr>\n",
              "  </tbody>\n",
              "</table>\n",
              "</div>"
            ],
            "text/plain": [
              "     age  gender  Total_Bilirubin  Direct_Bilirubin  Alkaline_Phosphotase  \\\n",
              "208   45  Female              0.9               0.3                   189   \n",
              "240   51    Male              0.8               0.2                   230   \n",
              "252   35  Female              0.6               0.2                   180   \n",
              "311   27    Male              1.3               0.6                   106   \n",
              "\n",
              "     Alamine_Aminotransferase  Aspartate_Aminotransferase  Total_Protiens  \\\n",
              "208                        23                          33             6.6   \n",
              "240                        24                          46             6.5   \n",
              "252                        12                          15             5.2   \n",
              "311                        25                          54             8.5   \n",
              "\n",
              "     Albumin  Albumin_and_Globulin_Ratio  Dataset  \n",
              "208      3.9                         NaN        1  \n",
              "240      3.1                         NaN        1  \n",
              "252      2.7                         NaN        2  \n",
              "311      4.8                         NaN        2  "
            ]
          },
          "execution_count": 59,
          "metadata": {},
          "output_type": "execute_result"
        }
      ],
      "source": [
        "df[df[\"Albumin_and_Globulin_Ratio\"].isnull()]"
      ]
    },
    {
      "cell_type": "code",
      "execution_count": null,
      "id": "c7a6e9e7",
      "metadata": {
        "id": "c7a6e9e7",
        "outputId": "db79dd2d-84aa-49ab-ead1-5f89c0d52871"
      },
      "outputs": [
        {
          "name": "stderr",
          "output_type": "stream",
          "text": [
            "/var/folders/k9/4h9scfl5705d8bgf7__gzk_h0000gn/T/ipykernel_68998/289534366.py:1: FutureWarning:\n",
            "\n",
            "A value is trying to be set on a copy of a DataFrame or Series through chained assignment using an inplace method.\n",
            "The behavior will change in pandas 3.0. This inplace method will never work because the intermediate object on which we are setting values always behaves as a copy.\n",
            "\n",
            "For example, when doing 'df[col].method(value, inplace=True)', try using 'df.method({col: value}, inplace=True)' or df[col] = df[col].method(value) instead, to perform the operation inplace on the original object.\n",
            "\n",
            "\n",
            "\n"
          ]
        }
      ],
      "source": [
        "df.Albumin_and_Globulin_Ratio.fillna(df['Albumin_and_Globulin_Ratio'].median(), inplace=True)"
      ]
    },
    {
      "cell_type": "code",
      "execution_count": null,
      "id": "23414d4a",
      "metadata": {
        "id": "23414d4a"
      },
      "outputs": [],
      "source": [
        "le = preprocessing.LabelEncoder()\n",
        "le.fit(df.gender.unique())\n",
        "df['Gender_Encoded'] = le.transform(df.gender)\n",
        "df.drop(['gender'], axis=1, inplace=True)"
      ]
    },
    {
      "cell_type": "code",
      "execution_count": null,
      "id": "45d99334",
      "metadata": {
        "id": "45d99334",
        "outputId": "8fd82b5c-8c6f-4182-c906-d7044b918984"
      },
      "outputs": [
        {
          "data": {
            "image/png": "[encoded data removed]",
            "text/plain": [
              "<Figure size 1000x1000 with 2 Axes>"
            ]
          },
          "metadata": {},
          "output_type": "display_data"
        }
      ],
      "source": [
        "correlations = df.corr()\n",
        "\n",
        "# and visualize\n",
        "plt.figure(figsize=(10, 10))\n",
        "g = sns.heatmap(correlations, cbar = True, square = True, annot=True, fmt= '.2f', annot_kws={'size': 10})"
      ]
    },
    {
      "cell_type": "code",
      "execution_count": null,
      "id": "465e542f",
      "metadata": {
        "id": "465e542f",
        "outputId": "e30b4294-25da-4e7a-f926-a84fa01aa5d2"
      },
      "outputs": [
        {
          "name": "stdout",
          "output_type": "stream",
          "text": [
            "PearsonRResult(statistic=0.8745775779899142, pvalue=1.773396312451426e-184)\n"
          ]
        }
      ],
      "source": [
        "print(pearsonr(df['Total_Bilirubin'], df['Direct_Bilirubin']))"
      ]
    },
    {
      "cell_type": "code",
      "execution_count": null,
      "id": "c66178bf",
      "metadata": {
        "id": "c66178bf",
        "outputId": "1ebb7002-85da-47db-bcd8-e43d8d914ee7"
      },
      "outputs": [
        {
          "data": {
            "application/vnd.plotly.v1+json": {
              "config": {
                "plotlyServerURL": "https://plot.ly"
              },
              "data": [
                {
                  "hovertemplate": "Total_Bilirubin=%{x}<br>Direct_Bilirubin=%{y}<extra></extra>",
                  "legendgroup": "",
                  "marker": {
                    "color": "#636efa",
                    "symbol": "circle"
                  },
                  "mode": "markers",
                  "name": "",
                  "orientation": "v",
                  "showlegend": false,
                  "type": "scatter",
                  "x": [
                    10.9,
                    7.3,
                    1,
                    3.9,
                    1.8,
                    0.9,
                    0.9,
                    0.9,
                    0.7,
                    0.6,
                    2.7,
                    0.9,
                    1.1,
                    0.7,
                    0.6,
                    1.8,
                    1.6,
                    0.9,
                    0.9,
                    2.2,
                    2.9,
                    6.8,
                    1.9,
                    0.9,
                    4.1,
                    4.1,
                    6.2,
                    1.1,
                    0.7,
                    4,
                    0.9,
                    1,
                    2.6,
                    2.6,
                    1.3,
                    0.7,
                    14.2,
                    1.4,
                    2.7,
                    2.4,
                    0.6,
                    6.8,
                    2.6,
                    1,
                    1.8,
                    3.9,
                    1.1,
                    0.6,
                    18.4,
                    0.7,
                    0.6,
                    3.1,
                    1.1,
                    8.9,
                    8.9,
                    0.8,
                    0.9,
                    0.8,
                    1.1,
                    0.8,
                    1,
                    1,
                    0.7,
                    1.3,
                    1.4,
                    2.2,
                    1.8,
                    0.7,
                    0.8,
                    0.7,
                    0.8,
                    0.8,
                    0.6,
                    0.7,
                    0.7,
                    0.9,
                    0.6,
                    1.4,
                    2.8,
                    2.4,
                    1,
                    0.7,
                    2,
                    0.6,
                    1.4,
                    0.6,
                    0.8,
                    0.6,
                    4,
                    5.7,
                    6.8,
                    8.6,
                    5.8,
                    5.2,
                    0.9,
                    3.8,
                    6.6,
                    0.6,
                    0.7,
                    0.6,
                    0.7,
                    0.9,
                    0.8,
                    0.5,
                    5.3,
                    5.3,
                    0.8,
                    0.8,
                    0.9,
                    0.7,
                    3.2,
                    1.2,
                    0.6,
                    5.8,
                    7.3,
                    0.7,
                    12.7,
                    15.9,
                    18,
                    23,
                    22.7,
                    1.7,
                    0.8,
                    0.6,
                    1.8,
                    5.8,
                    3,
                    1.7,
                    2.8,
                    3.2,
                    0.7,
                    0.8,
                    0.9,
                    1.8,
                    11.3,
                    4.7,
                    0.8,
                    0.8,
                    0.8,
                    0.6,
                    4.2,
                    1.6,
                    1.6,
                    3.5,
                    0.8,
                    2.9,
                    0.7,
                    0.9,
                    0.8,
                    1.1,
                    1.6,
                    0.8,
                    0.6,
                    5.9,
                    8.7,
                    0.9,
                    0.7,
                    0.7,
                    1.2,
                    11,
                    11.5,
                    5.8,
                    1.9,
                    1.9,
                    4.5,
                    75,
                    3,
                    22.8,
                    8.9,
                    1.7,
                    1.9,
                    14.1,
                    0.6,
                    0.6,
                    0.8,
                    0.8,
                    14.8,
                    10.6,
                    8,
                    2.8,
                    2.9,
                    1.9,
                    0.6,
                    1.1,
                    1.5,
                    3.2,
                    2.1,
                    1.9,
                    0.8,
                    6.3,
                    5.8,
                    2.3,
                    1.3,
                    2,
                    2.4,
                    2,
                    0.6,
                    0.9,
                    27.2,
                    0.6,
                    0.6,
                    0.8,
                    1,
                    0.7,
                    2.5,
                    3.6,
                    3.9,
                    0.9,
                    0.9,
                    0.8,
                    2.7,
                    2.7,
                    0.9,
                    1.7,
                    0.6,
                    0.9,
                    1.1,
                    0.6,
                    0.8,
                    0.8,
                    0.9,
                    0.9,
                    1.1,
                    1.7,
                    0.6,
                    1.3,
                    0.7,
                    1,
                    0.6,
                    1.5,
                    0.8,
                    2.7,
                    2,
                    0.9,
                    1.5,
                    0.8,
                    0.9,
                    0.9,
                    0.9,
                    0.7,
                    0.8,
                    0.8,
                    0.9,
                    0.8,
                    0.9,
                    1.8,
                    0.9,
                    0.7,
                    1.2,
                    2.1,
                    0.9,
                    1.1,
                    0.6,
                    0.7,
                    1.7,
                    0.9,
                    0.8,
                    0.8,
                    30.5,
                    16.4,
                    1.5,
                    0.8,
                    0.8,
                    0.8,
                    0.9,
                    1.2,
                    0.9,
                    14.5,
                    0.6,
                    0.7,
                    0.8,
                    18.5,
                    0.7,
                    1.8,
                    1.9,
                    0.9,
                    2,
                    2.2,
                    1,
                    0.8,
                    0.7,
                    0.7,
                    1.3,
                    0.9,
                    1.5,
                    0.8,
                    1.3,
                    1,
                    4.5,
                    1,
                    0.7,
                    0.6,
                    1.1,
                    2.4,
                    0.6,
                    0.9,
                    0.9,
                    1.1,
                    0.9,
                    0.8,
                    0.9,
                    1.7,
                    0.7,
                    0.8,
                    1.4,
                    1.6,
                    0.8,
                    0.8,
                    1.1,
                    0.8,
                    23.2,
                    1.3,
                    0.8,
                    2,
                    0.9,
                    0.9,
                    0.7,
                    3.7,
                    0.9,
                    0.7,
                    0.8,
                    1.7,
                    0.8,
                    2.6,
                    0.8,
                    1.2,
                    3.3,
                    0.8,
                    0.7,
                    2,
                    1.7,
                    7.1,
                    0.7,
                    0.7,
                    0.7,
                    6.7,
                    2.5,
                    1.8,
                    1.4,
                    0.9,
                    0.8,
                    0.8,
                    3.1,
                    0.8,
                    2.9,
                    0.6,
                    0.7,
                    1.3,
                    0.8,
                    1.8,
                    1.3,
                    0.7,
                    1.4,
                    0.8,
                    1.4,
                    0.7,
                    2.1,
                    0.7,
                    0.8,
                    0.7,
                    0.7,
                    1.1,
                    0.9,
                    0.8,
                    0.7,
                    0.7,
                    2.2,
                    0.8,
                    0.8,
                    22.6,
                    0.8,
                    0.7,
                    0.7,
                    0.7,
                    3.5,
                    0.7,
                    0.6,
                    0.7,
                    0.7,
                    1.7,
                    0.6,
                    0.7,
                    1.4,
                    3.7,
                    0.8,
                    2.7,
                    0.8,
                    0.8,
                    0.6,
                    0.8,
                    0.9,
                    7.5,
                    2.7,
                    1,
                    0.8,
                    1,
                    1,
                    0.8,
                    1,
                    0.7,
                    7.3,
                    0.5,
                    0.7,
                    0.8,
                    0.8,
                    0.7,
                    1,
                    2.4,
                    5,
                    1.4,
                    2.3,
                    4.9,
                    0.7,
                    1.4,
                    1.3,
                    0.6,
                    0.7,
                    4.2,
                    8.2,
                    10.9,
                    1,
                    1.2,
                    1.6,
                    0.7,
                    0.4,
                    1.3,
                    0.9,
                    0.6,
                    1.9,
                    0.7,
                    0.8,
                    0.7,
                    0.9,
                    0.7,
                    0.5,
                    1,
                    1.6,
                    0.8,
                    0.8,
                    0.8,
                    2.3,
                    7.4,
                    0.7,
                    0.8,
                    0.9,
                    0.8,
                    23.3,
                    0.8,
                    0.9,
                    7.9,
                    0.8,
                    0.9,
                    0.7,
                    0.6,
                    0.6,
                    0.7,
                    0.8,
                    6.8,
                    1.1,
                    2.2,
                    0.8,
                    0.7,
                    0.8,
                    0.7,
                    0.6,
                    0.6,
                    1,
                    1,
                    0.8,
                    1.1,
                    0.6,
                    0.7,
                    1,
                    2,
                    2.2,
                    0.9,
                    0.6,
                    7.1,
                    3.4,
                    0.5,
                    2.3,
                    1.1,
                    0.8,
                    5,
                    6.7,
                    0.8,
                    0.7,
                    0.7,
                    0.8,
                    0.8,
                    1,
                    1,
                    0.7,
                    0.7,
                    0.7,
                    1,
                    2.2,
                    1.8,
                    3.6,
                    2.7,
                    2.8,
                    0.8,
                    19.8,
                    30.5,
                    32.6,
                    17.7,
                    0.9,
                    18.4,
                    20,
                    0.8,
                    2.2,
                    1,
                    0.9,
                    1,
                    3.9,
                    0.9,
                    0.9,
                    2.9,
                    26.3,
                    1.8,
                    4.4,
                    0.8,
                    0.6,
                    0.8,
                    0.9,
                    9.4,
                    3.5,
                    1.7,
                    3.3,
                    1.1,
                    30.8,
                    0.7,
                    1.4,
                    1.6,
                    19.6,
                    15.8,
                    0.8,
                    1.8,
                    0.7,
                    0.8,
                    0.8,
                    0.7,
                    1.2,
                    5.5,
                    0.7,
                    20.2,
                    27.7,
                    11.1,
                    2.1,
                    3.3,
                    1.2,
                    0.6,
                    10.2,
                    1.8,
                    0.8,
                    0.7,
                    2.9,
                    4,
                    42.8,
                    15.2,
                    16.6,
                    17.3,
                    1.4,
                    0.6,
                    22.5,
                    1,
                    2.7,
                    16.7,
                    7.7,
                    2.6,
                    1.1,
                    15.6,
                    3.7,
                    12.1,
                    25,
                    15,
                    12.7,
                    0.5,
                    0.6,
                    0.8,
                    1.3,
                    1
                  ],
                  "xaxis": "x",
                  "y": [
                    5.5,
                    4.1,
                    0.4,
                    2,
                    0.7,
                    0.2,
                    0.3,
                    0.3,
                    0.2,
                    0.1,
                    1.3,
                    0.3,
                    0.4,
                    0.2,
                    0.1,
                    0.8,
                    0.5,
                    0.3,
                    0.3,
                    1,
                    1.3,
                    3,
                    1,
                    0.2,
                    2,
                    2,
                    3,
                    0.5,
                    0.2,
                    1.9,
                    0.2,
                    0.3,
                    1.2,
                    1.2,
                    0.4,
                    0.2,
                    7.8,
                    0.6,
                    1.3,
                    1.1,
                    0.1,
                    3.2,
                    1.2,
                    0.3,
                    0.6,
                    1.8,
                    0.3,
                    0.1,
                    8.8,
                    0.2,
                    0.1,
                    1.6,
                    0.3,
                    4.5,
                    4.5,
                    0.2,
                    0.2,
                    0.2,
                    0.5,
                    0.2,
                    0.5,
                    0.5,
                    0.2,
                    0.4,
                    0.7,
                    1.2,
                    0.8,
                    0.2,
                    0.2,
                    0.2,
                    0.2,
                    0.2,
                    0.1,
                    0.1,
                    0.1,
                    0.2,
                    0.1,
                    0.6,
                    1.3,
                    1.1,
                    0.3,
                    0.1,
                    1,
                    0.1,
                    0.5,
                    0.1,
                    0.2,
                    0.2,
                    1.9,
                    2.8,
                    3.2,
                    4,
                    2.7,
                    2.4,
                    0.2,
                    1.5,
                    3,
                    0.1,
                    0.1,
                    0.2,
                    0.2,
                    0.2,
                    0.2,
                    0.1,
                    2.3,
                    2.3,
                    0.2,
                    0.2,
                    0.1,
                    0.2,
                    1.6,
                    0.4,
                    0.1,
                    3,
                    3.6,
                    0.1,
                    6.2,
                    7,
                    8.2,
                    11.3,
                    10.2,
                    0.8,
                    0.2,
                    0.1,
                    0.5,
                    2.5,
                    1.4,
                    0.8,
                    1.7,
                    1.4,
                    0.2,
                    0.2,
                    0.4,
                    0.7,
                    5.6,
                    2.2,
                    0.2,
                    0.2,
                    0.2,
                    0.1,
                    2.1,
                    0.4,
                    0.4,
                    1.5,
                    0.2,
                    1.3,
                    0.1,
                    0.2,
                    0.2,
                    0.5,
                    0.8,
                    0.2,
                    0.1,
                    2.5,
                    4,
                    0.3,
                    0.1,
                    0.1,
                    0.4,
                    4.9,
                    5,
                    2.7,
                    0.9,
                    0.9,
                    2.3,
                    3.6,
                    1.5,
                    12.6,
                    4,
                    0.8,
                    0.6,
                    7.6,
                    0.1,
                    0.1,
                    0.2,
                    0.2,
                    9,
                    5,
                    4.6,
                    1.3,
                    1.3,
                    0.8,
                    0.1,
                    0.4,
                    0.4,
                    1.8,
                    1,
                    0.8,
                    0.2,
                    3.2,
                    3,
                    0.6,
                    0.4,
                    0.6,
                    1,
                    1.1,
                    0.2,
                    0.2,
                    11.8,
                    0.1,
                    0.1,
                    0.2,
                    0.3,
                    0.2,
                    1.2,
                    1.8,
                    1.7,
                    0.3,
                    0.3,
                    0.3,
                    1.3,
                    1,
                    0.2,
                    1,
                    0.2,
                    0.2,
                    0.5,
                    0.1,
                    0.2,
                    0.2,
                    0.2,
                    0.2,
                    0.3,
                    0.5,
                    0.2,
                    0.4,
                    0.2,
                    0.3,
                    0.2,
                    0.6,
                    0.1,
                    1.6,
                    1.4,
                    0.2,
                    0.6,
                    0.2,
                    0.3,
                    0.2,
                    0.3,
                    0.2,
                    0.2,
                    0.2,
                    0.2,
                    0.2,
                    0.2,
                    9,
                    0.2,
                    0.1,
                    0.3,
                    1.3,
                    0.8,
                    0.3,
                    0.2,
                    0.1,
                    0.7,
                    0.3,
                    0.2,
                    0.2,
                    14.2,
                    8.9,
                    7,
                    0.2,
                    0.2,
                    0.2,
                    0.2,
                    0.4,
                    0.3,
                    6.4,
                    0.1,
                    0.2,
                    0.2,
                    9.5,
                    0.2,
                    0.8,
                    0.8,
                    0.2,
                    0.8,
                    0.8,
                    1.4,
                    0.2,
                    0.2,
                    0.2,
                    0.7,
                    0.3,
                    0.5,
                    0.2,
                    0.6,
                    0.5,
                    2.3,
                    0.3,
                    0.2,
                    0.2,
                    0.5,
                    1,
                    0.2,
                    0.3,
                    0.3,
                    0.3,
                    0.2,
                    0.2,
                    0.2,
                    0.6,
                    0.2,
                    0.2,
                    0.7,
                    1,
                    0.2,
                    0.2,
                    0.7,
                    0.2,
                    12.6,
                    0.6,
                    0.2,
                    0.9,
                    0.3,
                    0.2,
                    0.2,
                    2.2,
                    0.3,
                    0.2,
                    0.2,
                    0.5,
                    0.2,
                    1.2,
                    0.2,
                    0.4,
                    1.6,
                    0.2,
                    0.2,
                    0.9,
                    0.6,
                    3.3,
                    0.2,
                    0.2,
                    0.1,
                    3.6,
                    1.2,
                    0.8,
                    0.4,
                    0.2,
                    0.2,
                    0.2,
                    1.6,
                    0.2,
                    1.3,
                    0.2,
                    0.2,
                    0.4,
                    0.2,
                    0.8,
                    0.4,
                    0.2,
                    0.8,
                    0.2,
                    0.8,
                    0.2,
                    0.7,
                    0.2,
                    0.2,
                    0.2,
                    0.2,
                    0.3,
                    0.2,
                    0.2,
                    0.2,
                    0.2,
                    1,
                    0.2,
                    0.2,
                    11.4,
                    0.2,
                    0.2,
                    0.1,
                    0.1,
                    1.6,
                    0.1,
                    0.2,
                    0.1,
                    0.2,
                    0.8,
                    0.2,
                    0.1,
                    0.7,
                    2.1,
                    0.2,
                    1.4,
                    0.2,
                    0.2,
                    0.1,
                    0.2,
                    0.2,
                    4.3,
                    1.3,
                    0.3,
                    0.2,
                    0.3,
                    0.3,
                    0.2,
                    0.2,
                    0.2,
                    3.7,
                    0.1,
                    0.2,
                    0.2,
                    0.2,
                    0.2,
                    0.2,
                    1.1,
                    2.6,
                    0.6,
                    0.8,
                    2.7,
                    0.2,
                    0.6,
                    0.3,
                    0.1,
                    0.1,
                    2.3,
                    3.9,
                    5.1,
                    0.3,
                    0.5,
                    0.9,
                    0.1,
                    0.1,
                    0.6,
                    0.2,
                    0.1,
                    0.7,
                    0.1,
                    0.2,
                    0.2,
                    0.2,
                    0.2,
                    0.1,
                    0.3,
                    0.7,
                    0.2,
                    0.2,
                    0.2,
                    1.1,
                    3.6,
                    0.2,
                    0.2,
                    0.2,
                    0.2,
                    12.8,
                    0.2,
                    0.2,
                    4.3,
                    0.2,
                    0.2,
                    0.2,
                    0.2,
                    0.1,
                    0.2,
                    0.2,
                    3.2,
                    0.5,
                    1,
                    0.2,
                    0.2,
                    0.1,
                    0.2,
                    0.1,
                    0.1,
                    0.3,
                    0.3,
                    0.2,
                    0.5,
                    0.1,
                    0.2,
                    0.3,
                    1.1,
                    1,
                    0.3,
                    0.2,
                    3.7,
                    1.6,
                    0.1,
                    1.3,
                    0.4,
                    0.2,
                    2.1,
                    3.2,
                    0.2,
                    0.2,
                    0.2,
                    0.1,
                    0.2,
                    0.3,
                    0.3,
                    0.2,
                    0.2,
                    0.2,
                    0.2,
                    1.1,
                    0.5,
                    1.6,
                    1.2,
                    1.5,
                    0.2,
                    10.4,
                    17.1,
                    14.1,
                    8.8,
                    0.3,
                    8.5,
                    10,
                    0.2,
                    1.6,
                    0.3,
                    0.2,
                    0.3,
                    2.1,
                    0.3,
                    0.2,
                    1.4,
                    12.1,
                    0.9,
                    2.9,
                    0.2,
                    0.2,
                    0.2,
                    0.2,
                    5.2,
                    1.6,
                    0.8,
                    1.5,
                    0.3,
                    18.3,
                    0.2,
                    0.4,
                    0.8,
                    9.5,
                    7.2,
                    0.1,
                    0.8,
                    0.2,
                    0.2,
                    0.2,
                    0.2,
                    0.6,
                    3.2,
                    0.2,
                    11.7,
                    10.8,
                    6.1,
                    1,
                    1.5,
                    0.4,
                    0.1,
                    4.2,
                    0.9,
                    0.2,
                    0.1,
                    1.2,
                    2.5,
                    19.7,
                    7.7,
                    7.6,
                    8.5,
                    0.5,
                    0.1,
                    11.8,
                    0.3,
                    1.4,
                    8.4,
                    4.1,
                    1.2,
                    0.3,
                    9.5,
                    1.6,
                    6,
                    13.7,
                    8.2,
                    8.4,
                    0.1,
                    0.1,
                    0.2,
                    0.5,
                    0.3
                  ],
                  "yaxis": "y"
                }
              ],
              "layout": {
                "legend": {
                  "tracegroupgap": 0
                },
                "margin": {
                  "t": 60
                },
                "template": {
                  "data": {
                    "bar": [
                      {
                        "error_x": {
                          "color": "#2a3f5f"
                        },
                        "error_y": {
                          "color": "#2a3f5f"
                        },
                        "marker": {
                          "line": {
                            "color": "#E5ECF6",
                            "width": 0.5
                          },
                          "pattern": {
                            "fillmode": "overlay",
                            "size": 10,
                            "solidity": 0.2
                          }
                        },
                        "type": "bar"
                      }
                    ],
                    "barpolar": [
                      {
                        "marker": {
                          "line": {
                            "color": "#E5ECF6",
                            "width": 0.5
                          },
                          "pattern": {
                            "fillmode": "overlay",
                            "size": 10,
                            "solidity": 0.2
                          }
                        },
                        "type": "barpolar"
                      }
                    ],
                    "carpet": [
                      {
                        "aaxis": {
                          "endlinecolor": "#2a3f5f",
                          "gridcolor": "white",
                          "linecolor": "white",
                          "minorgridcolor": "white",
                          "startlinecolor": "#2a3f5f"
                        },
                        "baxis": {
                          "endlinecolor": "#2a3f5f",
                          "gridcolor": "white",
                          "linecolor": "white",
                          "minorgridcolor": "white",
                          "startlinecolor": "#2a3f5f"
                        },
                        "type": "carpet"
                      }
                    ],
                    "choropleth": [
                      {
                        "colorbar": {
                          "outlinewidth": 0,
                          "ticks": ""
                        },
                        "type": "choropleth"
                      }
                    ],
                    "contour": [
                      {
                        "colorbar": {
                          "outlinewidth": 0,
                          "ticks": ""
                        },
                        "colorscale": [
                          [
                            0,
                            "#0d0887"
                          ],
                          [
                            0.1111111111111111,
                            "#46039f"
                          ],
                          [
                            0.2222222222222222,
                            "#7201a8"
                          ],
                          [
                            0.3333333333333333,
                            "#9c179e"
                          ],
                          [
                            0.4444444444444444,
                            "#bd3786"
                          ],
                          [
                            0.5555555555555556,
                            "#d8576b"
                          ],
                          [
                            0.6666666666666666,
                            "#ed7953"
                          ],
                          [
                            0.7777777777777778,
                            "#fb9f3a"
                          ],
                          [
                            0.8888888888888888,
                            "#fdca26"
                          ],
                          [
                            1,
                            "#f0f921"
                          ]
                        ],
                        "type": "contour"
                      }
                    ],
                    "contourcarpet": [
                      {
                        "colorbar": {
                          "outlinewidth": 0,
                          "ticks": ""
                        },
                        "type": "contourcarpet"
                      }
                    ],
                    "heatmap": [
                      {
                        "colorbar": {
                          "outlinewidth": 0,
                          "ticks": ""
                        },
                        "colorscale": [
                          [
                            0,
                            "#0d0887"
                          ],
                          [
                            0.1111111111111111,
                            "#46039f"
                          ],
                          [
                            0.2222222222222222,
                            "#7201a8"
                          ],
                          [
                            0.3333333333333333,
                            "#9c179e"
                          ],
                          [
                            0.4444444444444444,
                            "#bd3786"
                          ],
                          [
                            0.5555555555555556,
                            "#d8576b"
                          ],
                          [
                            0.6666666666666666,
                            "#ed7953"
                          ],
                          [
                            0.7777777777777778,
                            "#fb9f3a"
                          ],
                          [
                            0.8888888888888888,
                            "#fdca26"
                          ],
                          [
                            1,
                            "#f0f921"
                          ]
                        ],
                        "type": "heatmap"
                      }
                    ],
                    "heatmapgl": [
                      {
                        "colorbar": {
                          "outlinewidth": 0,
                          "ticks": ""
                        },
                        "colorscale": [
                          [
                            0,
                            "#0d0887"
                          ],
                          [
                            0.1111111111111111,
                            "#46039f"
                          ],
                          [
                            0.2222222222222222,
                            "#7201a8"
                          ],
                          [
                            0.3333333333333333,
                            "#9c179e"
                          ],
                          [
                            0.4444444444444444,
                            "#bd3786"
                          ],
                          [
                            0.5555555555555556,
                            "#d8576b"
                          ],
                          [
                            0.6666666666666666,
                            "#ed7953"
                          ],
                          [
                            0.7777777777777778,
                            "#fb9f3a"
                          ],
                          [
                            0.8888888888888888,
                            "#fdca26"
                          ],
                          [
                            1,
                            "#f0f921"
                          ]
                        ],
                        "type": "heatmapgl"
                      }
                    ],
                    "histogram": [
                      {
                        "marker": {
                          "pattern": {
                            "fillmode": "overlay",
                            "size": 10,
                            "solidity": 0.2
                          }
                        },
                        "type": "histogram"
                      }
                    ],
                    "histogram2d": [
                      {
                        "colorbar": {
                          "outlinewidth": 0,
                          "ticks": ""
                        },
                        "colorscale": [
                          [
                            0,
                            "#0d0887"
                          ],
                          [
                            0.1111111111111111,
                            "#46039f"
                          ],
                          [
                            0.2222222222222222,
                            "#7201a8"
                          ],
                          [
                            0.3333333333333333,
                            "#9c179e"
                          ],
                          [
                            0.4444444444444444,
                            "#bd3786"
                          ],
                          [
                            0.5555555555555556,
                            "#d8576b"
                          ],
                          [
                            0.6666666666666666,
                            "#ed7953"
                          ],
                          [
                            0.7777777777777778,
                            "#fb9f3a"
                          ],
                          [
                            0.8888888888888888,
                            "#fdca26"
                          ],
                          [
                            1,
                            "#f0f921"
                          ]
                        ],
                        "type": "histogram2d"
                      }
                    ],
                    "histogram2dcontour": [
                      {
                        "colorbar": {
                          "outlinewidth": 0,
                          "ticks": ""
                        },
                        "colorscale": [
                          [
                            0,
                            "#0d0887"
                          ],
                          [
                            0.1111111111111111,
                            "#46039f"
                          ],
                          [
                            0.2222222222222222,
                            "#7201a8"
                          ],
                          [
                            0.3333333333333333,
                            "#9c179e"
                          ],
                          [
                            0.4444444444444444,
                            "#bd3786"
                          ],
                          [
                            0.5555555555555556,
                            "#d8576b"
                          ],
                          [
                            0.6666666666666666,
                            "#ed7953"
                          ],
                          [
                            0.7777777777777778,
                            "#fb9f3a"
                          ],
                          [
                            0.8888888888888888,
                            "#fdca26"
                          ],
                          [
                            1,
                            "#f0f921"
                          ]
                        ],
                        "type": "histogram2dcontour"
                      }
                    ],
                    "mesh3d": [
                      {
                        "colorbar": {
                          "outlinewidth": 0,
                          "ticks": ""
                        },
                        "type": "mesh3d"
                      }
                    ],
                    "parcoords": [
                      {
                        "line": {
                          "colorbar": {
                            "outlinewidth": 0,
                            "ticks": ""
                          }
                        },
                        "type": "parcoords"
                      }
                    ],
                    "pie": [
                      {
                        "automargin": true,
                        "type": "pie"
                      }
                    ],
                    "scatter": [
                      {
                        "fillpattern": {
                          "fillmode": "overlay",
                          "size": 10,
                          "solidity": 0.2
                        },
                        "type": "scatter"
                      }
                    ],
                    "scatter3d": [
                      {
                        "line": {
                          "colorbar": {
                            "outlinewidth": 0,
                            "ticks": ""
                          }
                        },
                        "marker": {
                          "colorbar": {
                            "outlinewidth": 0,
                            "ticks": ""
                          }
                        },
                        "type": "scatter3d"
                      }
                    ],
                    "scattercarpet": [
                      {
                        "marker": {
                          "colorbar": {
                            "outlinewidth": 0,
                            "ticks": ""
                          }
                        },
                        "type": "scattercarpet"
                      }
                    ],
                    "scattergeo": [
                      {
                        "marker": {
                          "colorbar": {
                            "outlinewidth": 0,
                            "ticks": ""
                          }
                        },
                        "type": "scattergeo"
                      }
                    ],
                    "scattergl": [
                      {
                        "marker": {
                          "colorbar": {
                            "outlinewidth": 0,
                            "ticks": ""
                          }
                        },
                        "type": "scattergl"
                      }
                    ],
                    "scattermapbox": [
                      {
                        "marker": {
                          "colorbar": {
                            "outlinewidth": 0,
                            "ticks": ""
                          }
                        },
                        "type": "scattermapbox"
                      }
                    ],
                    "scatterpolar": [
                      {
                        "marker": {
                          "colorbar": {
                            "outlinewidth": 0,
                            "ticks": ""
                          }
                        },
                        "type": "scatterpolar"
                      }
                    ],
                    "scatterpolargl": [
                      {
                        "marker": {
                          "colorbar": {
                            "outlinewidth": 0,
                            "ticks": ""
                          }
                        },
                        "type": "scatterpolargl"
                      }
                    ],
                    "scatterternary": [
                      {
                        "marker": {
                          "colorbar": {
                            "outlinewidth": 0,
                            "ticks": ""
                          }
                        },
                        "type": "scatterternary"
                      }
                    ],
                    "surface": [
                      {
                        "colorbar": {
                          "outlinewidth": 0,
                          "ticks": ""
                        },
                        "colorscale": [
                          [
                            0,
                            "#0d0887"
                          ],
                          [
                            0.1111111111111111,
                            "#46039f"
                          ],
                          [
                            0.2222222222222222,
                            "#7201a8"
                          ],
                          [
                            0.3333333333333333,
                            "#9c179e"
                          ],
                          [
                            0.4444444444444444,
                            "#bd3786"
                          ],
                          [
                            0.5555555555555556,
                            "#d8576b"
                          ],
                          [
                            0.6666666666666666,
                            "#ed7953"
                          ],
                          [
                            0.7777777777777778,
                            "#fb9f3a"
                          ],
                          [
                            0.8888888888888888,
                            "#fdca26"
                          ],
                          [
                            1,
                            "#f0f921"
                          ]
                        ],
                        "type": "surface"
                      }
                    ],
                    "table": [
                      {
                        "cells": {
                          "fill": {
                            "color": "#EBF0F8"
                          },
                          "line": {
                            "color": "white"
                          }
                        },
                        "header": {
                          "fill": {
                            "color": "#C8D4E3"
                          },
                          "line": {
                            "color": "white"
                          }
                        },
                        "type": "table"
                      }
                    ]
                  },
                  "layout": {
                    "annotationdefaults": {
                      "arrowcolor": "#2a3f5f",
                      "arrowhead": 0,
                      "arrowwidth": 1
                    },
                    "autotypenumbers": "strict",
                    "coloraxis": {
                      "colorbar": {
                        "outlinewidth": 0,
                        "ticks": ""
                      }
                    },
                    "colorscale": {
                      "diverging": [
                        [
                          0,
                          "#8e0152"
                        ],
                        [
                          0.1,
                          "#c51b7d"
                        ],
                        [
                          0.2,
                          "#de77ae"
                        ],
                        [
                          0.3,
                          "#f1b6da"
                        ],
                        [
                          0.4,
                          "#fde0ef"
                        ],
                        [
                          0.5,
                          "#f7f7f7"
                        ],
                        [
                          0.6,
                          "#e6f5d0"
                        ],
                        [
                          0.7,
                          "#b8e186"
                        ],
                        [
                          0.8,
                          "#7fbc41"
                        ],
                        [
                          0.9,
                          "#4d9221"
                        ],
                        [
                          1,
                          "#276419"
                        ]
                      ],
                      "sequential": [
                        [
                          0,
                          "#0d0887"
                        ],
                        [
                          0.1111111111111111,
                          "#46039f"
                        ],
                        [
                          0.2222222222222222,
                          "#7201a8"
                        ],
                        [
                          0.3333333333333333,
                          "#9c179e"
                        ],
                        [
                          0.4444444444444444,
                          "#bd3786"
                        ],
                        [
                          0.5555555555555556,
                          "#d8576b"
                        ],
                        [
                          0.6666666666666666,
                          "#ed7953"
                        ],
                        [
                          0.7777777777777778,
                          "#fb9f3a"
                        ],
                        [
                          0.8888888888888888,
                          "#fdca26"
                        ],
                        [
                          1,
                          "#f0f921"
                        ]
                      ],
                      "sequentialminus": [
                        [
                          0,
                          "#0d0887"
                        ],
                        [
                          0.1111111111111111,
                          "#46039f"
                        ],
                        [
                          0.2222222222222222,
                          "#7201a8"
                        ],
                        [
                          0.3333333333333333,
                          "#9c179e"
                        ],
                        [
                          0.4444444444444444,
                          "#bd3786"
                        ],
                        [
                          0.5555555555555556,
                          "#d8576b"
                        ],
                        [
                          0.6666666666666666,
                          "#ed7953"
                        ],
                        [
                          0.7777777777777778,
                          "#fb9f3a"
                        ],
                        [
                          0.8888888888888888,
                          "#fdca26"
                        ],
                        [
                          1,
                          "#f0f921"
                        ]
                      ]
                    },
                    "colorway": [
                      "#636efa",
                      "#EF553B",
                      "#00cc96",
                      "#ab63fa",
                      "#FFA15A",
                      "#19d3f3",
                      "#FF6692",
                      "#B6E880",
                      "#FF97FF",
                      "#FECB52"
                    ],
                    "font": {
                      "color": "#2a3f5f"
                    },
                    "geo": {
                      "bgcolor": "white",
                      "lakecolor": "white",
                      "landcolor": "#E5ECF6",
                      "showlakes": true,
                      "showland": true,
                      "subunitcolor": "white"
                    },
                    "hoverlabel": {
                      "align": "left"
                    },
                    "hovermode": "closest",
                    "mapbox": {
                      "style": "light"
                    },
                    "paper_bgcolor": "white",
                    "plot_bgcolor": "#E5ECF6",
                    "polar": {
                      "angularaxis": {
                        "gridcolor": "white",
                        "linecolor": "white",
                        "ticks": ""
                      },
                      "bgcolor": "#E5ECF6",
                      "radialaxis": {
                        "gridcolor": "white",
                        "linecolor": "white",
                        "ticks": ""
                      }
                    },
                    "scene": {
                      "xaxis": {
                        "backgroundcolor": "#E5ECF6",
                        "gridcolor": "white",
                        "gridwidth": 2,
                        "linecolor": "white",
                        "showbackground": true,
                        "ticks": "",
                        "zerolinecolor": "white"
                      },
                      "yaxis": {
                        "backgroundcolor": "#E5ECF6",
                        "gridcolor": "white",
                        "gridwidth": 2,
                        "linecolor": "white",
                        "showbackground": true,
                        "ticks": "",
                        "zerolinecolor": "white"
                      },
                      "zaxis": {
                        "backgroundcolor": "#E5ECF6",
                        "gridcolor": "white",
                        "gridwidth": 2,
                        "linecolor": "white",
                        "showbackground": true,
                        "ticks": "",
                        "zerolinecolor": "white"
                      }
                    },
                    "shapedefaults": {
                      "line": {
                        "color": "#2a3f5f"
                      }
                    },
                    "ternary": {
                      "aaxis": {
                        "gridcolor": "white",
                        "linecolor": "white",
                        "ticks": ""
                      },
                      "baxis": {
                        "gridcolor": "white",
                        "linecolor": "white",
                        "ticks": ""
                      },
                      "bgcolor": "#E5ECF6",
                      "caxis": {
                        "gridcolor": "white",
                        "linecolor": "white",
                        "ticks": ""
                      }
                    },
                    "title": {
                      "x": 0.05
                    },
                    "xaxis": {
                      "automargin": true,
                      "gridcolor": "white",
                      "linecolor": "white",
                      "ticks": "",
                      "title": {
                        "standoff": 15
                      },
                      "zerolinecolor": "white",
                      "zerolinewidth": 2
                    },
                    "yaxis": {
                      "automargin": true,
                      "gridcolor": "white",
                      "linecolor": "white",
                      "ticks": "",
                      "title": {
                        "standoff": 15
                      },
                      "zerolinecolor": "white",
                      "zerolinewidth": 2
                    }
                  }
                },
                "xaxis": {
                  "anchor": "y",
                  "domain": [
                    0,
                    1
                  ],
                  "title": {
                    "text": "Total_Bilirubin"
                  }
                },
                "yaxis": {
                  "anchor": "x",
                  "domain": [
                    0,
                    1
                  ],
                  "title": {
                    "text": "Direct_Bilirubin"
                  }
                }
              }
            },
            "text/html": [
              "<div>                            <div id=\"9de67c73-42fe-4dd4-a040-01253f1c7dd8\" class=\"plotly-graph-div\" style=\"height:525px; width:100%;\"></div>            <script type=\"text/javascript\">                require([\"plotly\"], function(Plotly) {                    window.PLOTLYENV=window.PLOTLYENV || {};                                    if (document.getElementById(\"9de67c73-42fe-4dd4-a040-01253f1c7dd8\")) {                    Plotly.newPlot(                        \"9de67c73-42fe-4dd4-a040-01253f1c7dd8\",                        [{\"hovertemplate\":\"Total_Bilirubin=%{x}<br>Direct_Bilirubin=%{y}<extra></extra>\",\"legendgroup\":\"\",\"marker\":{\"color\":\"#636efa\",\"symbol\":\"circle\"},\"mode\":\"markers\",\"name\":\"\",\"orientation\":\"v\",\"showlegend\":false,\"x\":[10.9,7.3,1.0,3.9,1.8,0.9,0.9,0.9,0.7,0.6,2.7,0.9,1.1,0.7,0.6,1.8,1.6,0.9,0.9,2.2,2.9,6.8,1.9,0.9,4.1,4.1,6.2,1.1,0.7,4.0,0.9,1.0,2.6,2.6,1.3,0.7,14.2,1.4,2.7,2.4,0.6,6.8,2.6,1.0,1.8,3.9,1.1,0.6,18.4,0.7,0.6,3.1,1.1,8.9,8.9,0.8,0.9,0.8,1.1,0.8,1.0,1.0,0.7,1.3,1.4,2.2,1.8,0.7,0.8,0.7,0.8,0.8,0.6,0.7,0.7,0.9,0.6,1.4,2.8,2.4,1.0,0.7,2.0,0.6,1.4,0.6,0.8,0.6,4.0,5.7,6.8,8.6,5.8,5.2,0.9,3.8,6.6,0.6,0.7,0.6,0.7,0.9,0.8,0.5,5.3,5.3,0.8,0.8,0.9,0.7,3.2,1.2,0.6,5.8,7.3,0.7,12.7,15.9,18.0,23.0,22.7,1.7,0.8,0.6,1.8,5.8,3.0,1.7,2.8,3.2,0.7,0.8,0.9,1.8,11.3,4.7,0.8,0.8,0.8,0.6,4.2,1.6,1.6,3.5,0.8,2.9,0.7,0.9,0.8,1.1,1.6,0.8,0.6,5.9,8.7,0.9,0.7,0.7,1.2,11.0,11.5,5.8,1.9,1.9,4.5,75.0,3.0,22.8,8.9,1.7,1.9,14.1,0.6,0.6,0.8,0.8,14.8,10.6,8.0,2.8,2.9,1.9,0.6,1.1,1.5,3.2,2.1,1.9,0.8,6.3,5.8,2.3,1.3,2.0,2.4,2.0,0.6,0.9,27.2,0.6,0.6,0.8,1.0,0.7,2.5,3.6,3.9,0.9,0.9,0.8,2.7,2.7,0.9,1.7,0.6,0.9,1.1,0.6,0.8,0.8,0.9,0.9,1.1,1.7,0.6,1.3,0.7,1.0,0.6,1.5,0.8,2.7,2.0,0.9,1.5,0.8,0.9,0.9,0.9,0.7,0.8,0.8,0.9,0.8,0.9,1.8,0.9,0.7,1.2,2.1,0.9,1.1,0.6,0.7,1.7,0.9,0.8,0.8,30.5,16.4,1.5,0.8,0.8,0.8,0.9,1.2,0.9,14.5,0.6,0.7,0.8,18.5,0.7,1.8,1.9,0.9,2.0,2.2,1.0,0.8,0.7,0.7,1.3,0.9,1.5,0.8,1.3,1.0,4.5,1.0,0.7,0.6,1.1,2.4,0.6,0.9,0.9,1.1,0.9,0.8,0.9,1.7,0.7,0.8,1.4,1.6,0.8,0.8,1.1,0.8,23.2,1.3,0.8,2.0,0.9,0.9,0.7,3.7,0.9,0.7,0.8,1.7,0.8,2.6,0.8,1.2,3.3,0.8,0.7,2.0,1.7,7.1,0.7,0.7,0.7,6.7,2.5,1.8,1.4,0.9,0.8,0.8,3.1,0.8,2.9,0.6,0.7,1.3,0.8,1.8,1.3,0.7,1.4,0.8,1.4,0.7,2.1,0.7,0.8,0.7,0.7,1.1,0.9,0.8,0.7,0.7,2.2,0.8,0.8,22.6,0.8,0.7,0.7,0.7,3.5,0.7,0.6,0.7,0.7,1.7,0.6,0.7,1.4,3.7,0.8,2.7,0.8,0.8,0.6,0.8,0.9,7.5,2.7,1.0,0.8,1.0,1.0,0.8,1.0,0.7,7.3,0.5,0.7,0.8,0.8,0.7,1.0,2.4,5.0,1.4,2.3,4.9,0.7,1.4,1.3,0.6,0.7,4.2,8.2,10.9,1.0,1.2,1.6,0.7,0.4,1.3,0.9,0.6,1.9,0.7,0.8,0.7,0.9,0.7,0.5,1.0,1.6,0.8,0.8,0.8,2.3,7.4,0.7,0.8,0.9,0.8,23.3,0.8,0.9,7.9,0.8,0.9,0.7,0.6,0.6,0.7,0.8,6.8,1.1,2.2,0.8,0.7,0.8,0.7,0.6,0.6,1.0,1.0,0.8,1.1,0.6,0.7,1.0,2.0,2.2,0.9,0.6,7.1,3.4,0.5,2.3,1.1,0.8,5.0,6.7,0.8,0.7,0.7,0.8,0.8,1.0,1.0,0.7,0.7,0.7,1.0,2.2,1.8,3.6,2.7,2.8,0.8,19.8,30.5,32.6,17.7,0.9,18.4,20.0,0.8,2.2,1.0,0.9,1.0,3.9,0.9,0.9,2.9,26.3,1.8,4.4,0.8,0.6,0.8,0.9,9.4,3.5,1.7,3.3,1.1,30.8,0.7,1.4,1.6,19.6,15.8,0.8,1.8,0.7,0.8,0.8,0.7,1.2,5.5,0.7,20.2,27.7,11.1,2.1,3.3,1.2,0.6,10.2,1.8,0.8,0.7,2.9,4.0,42.8,15.2,16.6,17.3,1.4,0.6,22.5,1.0,2.7,16.7,7.7,2.6,1.1,15.6,3.7,12.1,25.0,15.0,12.7,0.5,0.6,0.8,1.3,1.0],\"xaxis\":\"x\",\"y\":[5.5,4.1,0.4,2.0,0.7,0.2,0.3,0.3,0.2,0.1,1.3,0.3,0.4,0.2,0.1,0.8,0.5,0.3,0.3,1.0,1.3,3.0,1.0,0.2,2.0,2.0,3.0,0.5,0.2,1.9,0.2,0.3,1.2,1.2,0.4,0.2,7.8,0.6,1.3,1.1,0.1,3.2,1.2,0.3,0.6,1.8,0.3,0.1,8.8,0.2,0.1,1.6,0.3,4.5,4.5,0.2,0.2,0.2,0.5,0.2,0.5,0.5,0.2,0.4,0.7,1.2,0.8,0.2,0.2,0.2,0.2,0.2,0.1,0.1,0.1,0.2,0.1,0.6,1.3,1.1,0.3,0.1,1.0,0.1,0.5,0.1,0.2,0.2,1.9,2.8,3.2,4.0,2.7,2.4,0.2,1.5,3.0,0.1,0.1,0.2,0.2,0.2,0.2,0.1,2.3,2.3,0.2,0.2,0.1,0.2,1.6,0.4,0.1,3.0,3.6,0.1,6.2,7.0,8.2,11.3,10.2,0.8,0.2,0.1,0.5,2.5,1.4,0.8,1.7,1.4,0.2,0.2,0.4,0.7,5.6,2.2,0.2,0.2,0.2,0.1,2.1,0.4,0.4,1.5,0.2,1.3,0.1,0.2,0.2,0.5,0.8,0.2,0.1,2.5,4.0,0.3,0.1,0.1,0.4,4.9,5.0,2.7,0.9,0.9,2.3,3.6,1.5,12.6,4.0,0.8,0.6,7.6,0.1,0.1,0.2,0.2,9.0,5.0,4.6,1.3,1.3,0.8,0.1,0.4,0.4,1.8,1.0,0.8,0.2,3.2,3.0,0.6,0.4,0.6,1.0,1.1,0.2,0.2,11.8,0.1,0.1,0.2,0.3,0.2,1.2,1.8,1.7,0.3,0.3,0.3,1.3,1.0,0.2,1.0,0.2,0.2,0.5,0.1,0.2,0.2,0.2,0.2,0.3,0.5,0.2,0.4,0.2,0.3,0.2,0.6,0.1,1.6,1.4,0.2,0.6,0.2,0.3,0.2,0.3,0.2,0.2,0.2,0.2,0.2,0.2,9.0,0.2,0.1,0.3,1.3,0.8,0.3,0.2,0.1,0.7,0.3,0.2,0.2,14.2,8.9,7.0,0.2,0.2,0.2,0.2,0.4,0.3,6.4,0.1,0.2,0.2,9.5,0.2,0.8,0.8,0.2,0.8,0.8,1.4,0.2,0.2,0.2,0.7,0.3,0.5,0.2,0.6,0.5,2.3,0.3,0.2,0.2,0.5,1.0,0.2,0.3,0.3,0.3,0.2,0.2,0.2,0.6,0.2,0.2,0.7,1.0,0.2,0.2,0.7,0.2,12.6,0.6,0.2,0.9,0.3,0.2,0.2,2.2,0.3,0.2,0.2,0.5,0.2,1.2,0.2,0.4,1.6,0.2,0.2,0.9,0.6,3.3,0.2,0.2,0.1,3.6,1.2,0.8,0.4,0.2,0.2,0.2,1.6,0.2,1.3,0.2,0.2,0.4,0.2,0.8,0.4,0.2,0.8,0.2,0.8,0.2,0.7,0.2,0.2,0.2,0.2,0.3,0.2,0.2,0.2,0.2,1.0,0.2,0.2,11.4,0.2,0.2,0.1,0.1,1.6,0.1,0.2,0.1,0.2,0.8,0.2,0.1,0.7,2.1,0.2,1.4,0.2,0.2,0.1,0.2,0.2,4.3,1.3,0.3,0.2,0.3,0.3,0.2,0.2,0.2,3.7,0.1,0.2,0.2,0.2,0.2,0.2,1.1,2.6,0.6,0.8,2.7,0.2,0.6,0.3,0.1,0.1,2.3,3.9,5.1,0.3,0.5,0.9,0.1,0.1,0.6,0.2,0.1,0.7,0.1,0.2,0.2,0.2,0.2,0.1,0.3,0.7,0.2,0.2,0.2,1.1,3.6,0.2,0.2,0.2,0.2,12.8,0.2,0.2,4.3,0.2,0.2,0.2,0.2,0.1,0.2,0.2,3.2,0.5,1.0,0.2,0.2,0.1,0.2,0.1,0.1,0.3,0.3,0.2,0.5,0.1,0.2,0.3,1.1,1.0,0.3,0.2,3.7,1.6,0.1,1.3,0.4,0.2,2.1,3.2,0.2,0.2,0.2,0.1,0.2,0.3,0.3,0.2,0.2,0.2,0.2,1.1,0.5,1.6,1.2,1.5,0.2,10.4,17.1,14.1,8.8,0.3,8.5,10.0,0.2,1.6,0.3,0.2,0.3,2.1,0.3,0.2,1.4,12.1,0.9,2.9,0.2,0.2,0.2,0.2,5.2,1.6,0.8,1.5,0.3,18.3,0.2,0.4,0.8,9.5,7.2,0.1,0.8,0.2,0.2,0.2,0.2,0.6,3.2,0.2,11.7,10.8,6.1,1.0,1.5,0.4,0.1,4.2,0.9,0.2,0.1,1.2,2.5,19.7,7.7,7.6,8.5,0.5,0.1,11.8,0.3,1.4,8.4,4.1,1.2,0.3,9.5,1.6,6.0,13.7,8.2,8.4,0.1,0.1,0.2,0.5,0.3],\"yaxis\":\"y\",\"type\":\"scatter\"}],                        {\"template\":{\"data\":{\"histogram2dcontour\":[{\"type\":\"histogram2dcontour\",\"colorbar\":{\"outlinewidth\":0,\"ticks\":\"\"},\"colorscale\":[[0.0,\"#0d0887\"],[0.1111111111111111,\"#46039f\"],[0.2222222222222222,\"#7201a8\"],[0.3333333333333333,\"#9c179e\"],[0.4444444444444444,\"#bd3786\"],[0.5555555555555556,\"#d8576b\"],[0.6666666666666666,\"#ed7953\"],[0.7777777777777778,\"#fb9f3a\"],[0.8888888888888888,\"#fdca26\"],[1.0,\"#f0f921\"]]}],\"choropleth\":[{\"type\":\"choropleth\",\"colorbar\":{\"outlinewidth\":0,\"ticks\":\"\"}}],\"histogram2d\":[{\"type\":\"histogram2d\",\"colorbar\":{\"outlinewidth\":0,\"ticks\":\"\"},\"colorscale\":[[0.0,\"#0d0887\"],[0.1111111111111111,\"#46039f\"],[0.2222222222222222,\"#7201a8\"],[0.3333333333333333,\"#9c179e\"],[0.4444444444444444,\"#bd3786\"],[0.5555555555555556,\"#d8576b\"],[0.6666666666666666,\"#ed7953\"],[0.7777777777777778,\"#fb9f3a\"],[0.8888888888888888,\"#fdca26\"],[1.0,\"#f0f921\"]]}],\"heatmap\":[{\"type\":\"heatmap\",\"colorbar\":{\"outlinewidth\":0,\"ticks\":\"\"},\"colorscale\":[[0.0,\"#0d0887\"],[0.1111111111111111,\"#46039f\"],[0.2222222222222222,\"#7201a8\"],[0.3333333333333333,\"#9c179e\"],[0.4444444444444444,\"#bd3786\"],[0.5555555555555556,\"#d8576b\"],[0.6666666666666666,\"#ed7953\"],[0.7777777777777778,\"#fb9f3a\"],[0.8888888888888888,\"#fdca26\"],[1.0,\"#f0f921\"]]}],\"heatmapgl\":[{\"type\":\"heatmapgl\",\"colorbar\":{\"outlinewidth\":0,\"ticks\":\"\"},\"colorscale\":[[0.0,\"#0d0887\"],[0.1111111111111111,\"#46039f\"],[0.2222222222222222,\"#7201a8\"],[0.3333333333333333,\"#9c179e\"],[0.4444444444444444,\"#bd3786\"],[0.5555555555555556,\"#d8576b\"],[0.6666666666666666,\"#ed7953\"],[0.7777777777777778,\"#fb9f3a\"],[0.8888888888888888,\"#fdca26\"],[1.0,\"#f0f921\"]]}],\"contourcarpet\":[{\"type\":\"contourcarpet\",\"colorbar\":{\"outlinewidth\":0,\"ticks\":\"\"}}],\"contour\":[{\"type\":\"contour\",\"colorbar\":{\"outlinewidth\":0,\"ticks\":\"\"},\"colorscale\":[[0.0,\"#0d0887\"],[0.1111111111111111,\"#46039f\"],[0.2222222222222222,\"#7201a8\"],[0.3333333333333333,\"#9c179e\"],[0.4444444444444444,\"#bd3786\"],[0.5555555555555556,\"#d8576b\"],[0.6666666666666666,\"#ed7953\"],[0.7777777777777778,\"#fb9f3a\"],[0.8888888888888888,\"#fdca26\"],[1.0,\"#f0f921\"]]}],\"surface\":[{\"type\":\"surface\",\"colorbar\":{\"outlinewidth\":0,\"ticks\":\"\"},\"colorscale\":[[0.0,\"#0d0887\"],[0.1111111111111111,\"#46039f\"],[0.2222222222222222,\"#7201a8\"],[0.3333333333333333,\"#9c179e\"],[0.4444444444444444,\"#bd3786\"],[0.5555555555555556,\"#d8576b\"],[0.6666666666666666,\"#ed7953\"],[0.7777777777777778,\"#fb9f3a\"],[0.8888888888888888,\"#fdca26\"],[1.0,\"#f0f921\"]]}],\"mesh3d\":[{\"type\":\"mesh3d\",\"colorbar\":{\"outlinewidth\":0,\"ticks\":\"\"}}],\"scatter\":[{\"fillpattern\":{\"fillmode\":\"overlay\",\"size\":10,\"solidity\":0.2},\"type\":\"scatter\"}],\"parcoords\":[{\"type\":\"parcoords\",\"line\":{\"colorbar\":{\"outlinewidth\":0,\"ticks\":\"\"}}}],\"scatterpolargl\":[{\"type\":\"scatterpolargl\",\"marker\":{\"colorbar\":{\"outlinewidth\":0,\"ticks\":\"\"}}}],\"bar\":[{\"error_x\":{\"color\":\"#2a3f5f\"},\"error_y\":{\"color\":\"#2a3f5f\"},\"marker\":{\"line\":{\"color\":\"#E5ECF6\",\"width\":0.5},\"pattern\":{\"fillmode\":\"overlay\",\"size\":10,\"solidity\":0.2}},\"type\":\"bar\"}],\"scattergeo\":[{\"type\":\"scattergeo\",\"marker\":{\"colorbar\":{\"outlinewidth\":0,\"ticks\":\"\"}}}],\"scatterpolar\":[{\"type\":\"scatterpolar\",\"marker\":{\"colorbar\":{\"outlinewidth\":0,\"ticks\":\"\"}}}],\"histogram\":[{\"marker\":{\"pattern\":{\"fillmode\":\"overlay\",\"size\":10,\"solidity\":0.2}},\"type\":\"histogram\"}],\"scattergl\":[{\"type\":\"scattergl\",\"marker\":{\"colorbar\":{\"outlinewidth\":0,\"ticks\":\"\"}}}],\"scatter3d\":[{\"type\":\"scatter3d\",\"line\":{\"colorbar\":{\"outlinewidth\":0,\"ticks\":\"\"}},\"marker\":{\"colorbar\":{\"outlinewidth\":0,\"ticks\":\"\"}}}],\"scattermapbox\":[{\"type\":\"scattermapbox\",\"marker\":{\"colorbar\":{\"outlinewidth\":0,\"ticks\":\"\"}}}],\"scatterternary\":[{\"type\":\"scatterternary\",\"marker\":{\"colorbar\":{\"outlinewidth\":0,\"ticks\":\"\"}}}],\"scattercarpet\":[{\"type\":\"scattercarpet\",\"marker\":{\"colorbar\":{\"outlinewidth\":0,\"ticks\":\"\"}}}],\"carpet\":[{\"aaxis\":{\"endlinecolor\":\"#2a3f5f\",\"gridcolor\":\"white\",\"linecolor\":\"white\",\"minorgridcolor\":\"white\",\"startlinecolor\":\"#2a3f5f\"},\"baxis\":{\"endlinecolor\":\"#2a3f5f\",\"gridcolor\":\"white\",\"linecolor\":\"white\",\"minorgridcolor\":\"white\",\"startlinecolor\":\"#2a3f5f\"},\"type\":\"carpet\"}],\"table\":[{\"cells\":{\"fill\":{\"color\":\"#EBF0F8\"},\"line\":{\"color\":\"white\"}},\"header\":{\"fill\":{\"color\":\"#C8D4E3\"},\"line\":{\"color\":\"white\"}},\"type\":\"table\"}],\"barpolar\":[{\"marker\":{\"line\":{\"color\":\"#E5ECF6\",\"width\":0.5},\"pattern\":{\"fillmode\":\"overlay\",\"size\":10,\"solidity\":0.2}},\"type\":\"barpolar\"}],\"pie\":[{\"automargin\":true,\"type\":\"pie\"}]},\"layout\":{\"autotypenumbers\":\"strict\",\"colorway\":[\"#636efa\",\"#EF553B\",\"#00cc96\",\"#ab63fa\",\"#FFA15A\",\"#19d3f3\",\"#FF6692\",\"#B6E880\",\"#FF97FF\",\"#FECB52\"],\"font\":{\"color\":\"#2a3f5f\"},\"hovermode\":\"closest\",\"hoverlabel\":{\"align\":\"left\"},\"paper_bgcolor\":\"white\",\"plot_bgcolor\":\"#E5ECF6\",\"polar\":{\"bgcolor\":\"#E5ECF6\",\"angularaxis\":{\"gridcolor\":\"white\",\"linecolor\":\"white\",\"ticks\":\"\"},\"radialaxis\":{\"gridcolor\":\"white\",\"linecolor\":\"white\",\"ticks\":\"\"}},\"ternary\":{\"bgcolor\":\"#E5ECF6\",\"aaxis\":{\"gridcolor\":\"white\",\"linecolor\":\"white\",\"ticks\":\"\"},\"baxis\":{\"gridcolor\":\"white\",\"linecolor\":\"white\",\"ticks\":\"\"},\"caxis\":{\"gridcolor\":\"white\",\"linecolor\":\"white\",\"ticks\":\"\"}},\"coloraxis\":{\"colorbar\":{\"outlinewidth\":0,\"ticks\":\"\"}},\"colorscale\":{\"sequential\":[[0.0,\"#0d0887\"],[0.1111111111111111,\"#46039f\"],[0.2222222222222222,\"#7201a8\"],[0.3333333333333333,\"#9c179e\"],[0.4444444444444444,\"#bd3786\"],[0.5555555555555556,\"#d8576b\"],[0.6666666666666666,\"#ed7953\"],[0.7777777777777778,\"#fb9f3a\"],[0.8888888888888888,\"#fdca26\"],[1.0,\"#f0f921\"]],\"sequentialminus\":[[0.0,\"#0d0887\"],[0.1111111111111111,\"#46039f\"],[0.2222222222222222,\"#7201a8\"],[0.3333333333333333,\"#9c179e\"],[0.4444444444444444,\"#bd3786\"],[0.5555555555555556,\"#d8576b\"],[0.6666666666666666,\"#ed7953\"],[0.7777777777777778,\"#fb9f3a\"],[0.8888888888888888,\"#fdca26\"],[1.0,\"#f0f921\"]],\"diverging\":[[0,\"#8e0152\"],[0.1,\"#c51b7d\"],[0.2,\"#de77ae\"],[0.3,\"#f1b6da\"],[0.4,\"#fde0ef\"],[0.5,\"#f7f7f7\"],[0.6,\"#e6f5d0\"],[0.7,\"#b8e186\"],[0.8,\"#7fbc41\"],[0.9,\"#4d9221\"],[1,\"#276419\"]]},\"xaxis\":{\"gridcolor\":\"white\",\"linecolor\":\"white\",\"ticks\":\"\",\"title\":{\"standoff\":15},\"zerolinecolor\":\"white\",\"automargin\":true,\"zerolinewidth\":2},\"yaxis\":{\"gridcolor\":\"white\",\"linecolor\":\"white\",\"ticks\":\"\",\"title\":{\"standoff\":15},\"zerolinecolor\":\"white\",\"automargin\":true,\"zerolinewidth\":2},\"scene\":{\"xaxis\":{\"backgroundcolor\":\"#E5ECF6\",\"gridcolor\":\"white\",\"linecolor\":\"white\",\"showbackground\":true,\"ticks\":\"\",\"zerolinecolor\":\"white\",\"gridwidth\":2},\"yaxis\":{\"backgroundcolor\":\"#E5ECF6\",\"gridcolor\":\"white\",\"linecolor\":\"white\",\"showbackground\":true,\"ticks\":\"\",\"zerolinecolor\":\"white\",\"gridwidth\":2},\"zaxis\":{\"backgroundcolor\":\"#E5ECF6\",\"gridcolor\":\"white\",\"linecolor\":\"white\",\"showbackground\":true,\"ticks\":\"\",\"zerolinecolor\":\"white\",\"gridwidth\":2}},\"shapedefaults\":{\"line\":{\"color\":\"#2a3f5f\"}},\"annotationdefaults\":{\"arrowcolor\":\"#2a3f5f\",\"arrowhead\":0,\"arrowwidth\":1},\"geo\":{\"bgcolor\":\"white\",\"landcolor\":\"#E5ECF6\",\"subunitcolor\":\"white\",\"showland\":true,\"showlakes\":true,\"lakecolor\":\"white\"},\"title\":{\"x\":0.05},\"mapbox\":{\"style\":\"light\"}}},\"xaxis\":{\"anchor\":\"y\",\"domain\":[0.0,1.0],\"title\":{\"text\":\"Total_Bilirubin\"}},\"yaxis\":{\"anchor\":\"x\",\"domain\":[0.0,1.0],\"title\":{\"text\":\"Direct_Bilirubin\"}},\"legend\":{\"tracegroupgap\":0},\"margin\":{\"t\":60}},                        {\"responsive\": true}                    ).then(function(){\n",
              "                            \n",
              "var gd = document.getElementById('9de67c73-42fe-4dd4-a040-01253f1c7dd8');\n",
              "var x = new MutationObserver(function (mutations, observer) {{\n",
              "        var display = window.getComputedStyle(gd).display;\n",
              "        if (!display || display === 'none') {{\n",
              "            console.log([gd, 'removed!']);\n",
              "            Plotly.purge(gd);\n",
              "            observer.disconnect();\n",
              "        }}\n",
              "}});\n",
              "\n",
              "// Listen for the removal of the full notebook cells\n",
              "var notebookContainer = gd.closest('#notebook-container');\n",
              "if (notebookContainer) {{\n",
              "    x.observe(notebookContainer, {childList: true});\n",
              "}}\n",
              "\n",
              "// Listen for the clearing of the current output cell\n",
              "var outputEl = gd.closest('.output');\n",
              "if (outputEl) {{\n",
              "    x.observe(outputEl, {childList: true});\n",
              "}}\n",
              "\n",
              "                        })                };                });            </script>        </div>"
            ]
          },
          "metadata": {},
          "output_type": "display_data"
        }
      ],
      "source": [
        "px.scatter(df, x='Total_Bilirubin', y='Direct_Bilirubin')"
      ]
    },
    {
      "cell_type": "code",
      "execution_count": null,
      "id": "8d0af1e9",
      "metadata": {
        "id": "8d0af1e9",
        "outputId": "b87e2469-789e-4756-d611-e2a2a6985335"
      },
      "outputs": [
        {
          "data": {
            "application/vnd.plotly.v1+json": {
              "config": {
                "plotlyServerURL": "https://plot.ly"
              },
              "data": [
                {
                  "hovertemplate": "Alamine_Aminotransferase=%{x}<br>Aspartate_Aminotransferase=%{y}<extra></extra>",
                  "legendgroup": "",
                  "marker": {
                    "color": "#636efa",
                    "symbol": "circle"
                  },
                  "mode": "markers",
                  "name": "",
                  "orientation": "v",
                  "showlegend": false,
                  "type": "scatter",
                  "x": [
                    64,
                    60,
                    14,
                    27,
                    19,
                    16,
                    14,
                    22,
                    53,
                    51,
                    31,
                    61,
                    22,
                    53,
                    91,
                    168,
                    15,
                    232,
                    232,
                    17,
                    22,
                    116,
                    16,
                    52,
                    875,
                    875,
                    1680,
                    20,
                    13,
                    45,
                    35,
                    19,
                    59,
                    59,
                    102,
                    18,
                    38,
                    38,
                    123,
                    33,
                    42,
                    25,
                    407,
                    17,
                    48,
                    36,
                    1630,
                    39,
                    64,
                    21,
                    15,
                    80,
                    86,
                    31,
                    31,
                    26,
                    24,
                    42,
                    20,
                    21,
                    37,
                    37,
                    35,
                    40,
                    62,
                    55,
                    53,
                    27,
                    24,
                    166,
                    20,
                    27,
                    22,
                    20,
                    52,
                    189,
                    95,
                    12,
                    48,
                    60,
                    25,
                    14,
                    194,
                    45,
                    58,
                    28,
                    33,
                    33,
                    119,
                    412,
                    404,
                    412,
                    220,
                    126,
                    25,
                    102,
                    190,
                    97,
                    308,
                    27,
                    21,
                    36,
                    14,
                    21,
                    32,
                    32,
                    29,
                    29,
                    25,
                    11,
                    33,
                    63,
                    24,
                    181,
                    88,
                    74,
                    2000,
                    1350,
                    1250,
                    482,
                    322,
                    60,
                    17,
                    36,
                    45,
                    133,
                    46,
                    61,
                    57,
                    50,
                    18,
                    34,
                    17,
                    35,
                    1250,
                    62,
                    72,
                    72,
                    25,
                    20,
                    15,
                    84,
                    84,
                    63,
                    18,
                    21,
                    20,
                    20,
                    21,
                    30,
                    18,
                    20,
                    26,
                    45,
                    58,
                    70,
                    20,
                    20,
                    36,
                    140,
                    99,
                    43,
                    42,
                    42,
                    13,
                    40,
                    64,
                    53,
                    33,
                    28,
                    378,
                    35,
                    48,
                    48,
                    43,
                    112,
                    71,
                    37,
                    30,
                    23,
                    33,
                    36,
                    20,
                    18,
                    60,
                    79,
                    114,
                    42,
                    32,
                    118,
                    107,
                    79,
                    30,
                    48,
                    30,
                    52,
                    12,
                    22,
                    790,
                    50,
                    50,
                    19,
                    27,
                    27,
                    28,
                    50,
                    950,
                    53,
                    23,
                    20,
                    60,
                    82,
                    25,
                    18,
                    17,
                    36,
                    30,
                    38,
                    41,
                    27,
                    38,
                    40,
                    20,
                    56,
                    45,
                    38,
                    18,
                    26,
                    26,
                    61,
                    85,
                    149,
                    48,
                    32,
                    230,
                    57,
                    20,
                    40,
                    69,
                    32,
                    24,
                    30,
                    25,
                    20,
                    15,
                    22,
                    25,
                    37,
                    28,
                    38,
                    37,
                    48,
                    12,
                    90,
                    89,
                    23,
                    148,
                    31,
                    65,
                    56,
                    205,
                    55,
                    25,
                    55,
                    30,
                    38,
                    12,
                    50,
                    15,
                    96,
                    152,
                    390,
                    15,
                    25,
                    22,
                    25,
                    45,
                    25,
                    18,
                    56,
                    18,
                    12,
                    10,
                    30,
                    29,
                    15,
                    15,
                    16,
                    120,
                    48,
                    32,
                    22,
                    37,
                    25,
                    78,
                    16,
                    24,
                    26,
                    40,
                    32,
                    21,
                    28,
                    18,
                    21,
                    36,
                    74,
                    21,
                    22,
                    178,
                    48,
                    43,
                    25,
                    25,
                    24,
                    18,
                    29,
                    42,
                    179,
                    21,
                    31,
                    30,
                    36,
                    47,
                    42,
                    27,
                    160,
                    11,
                    29,
                    14,
                    54,
                    62,
                    80,
                    21,
                    17,
                    24,
                    198,
                    85,
                    79,
                    50,
                    44,
                    70,
                    36,
                    40,
                    60,
                    32,
                    14,
                    349,
                    19,
                    19,
                    62,
                    41,
                    36,
                    110,
                    25,
                    13,
                    21,
                    50,
                    28,
                    42,
                    47,
                    23,
                    21,
                    26,
                    33,
                    28,
                    28,
                    45,
                    22,
                    24,
                    30,
                    30,
                    29,
                    32,
                    26,
                    32,
                    35,
                    12,
                    20,
                    16,
                    36,
                    28,
                    27,
                    10,
                    115,
                    29,
                    25,
                    34,
                    31,
                    31,
                    23,
                    25,
                    94,
                    142,
                    37,
                    24,
                    30,
                    28,
                    25,
                    137,
                    24,
                    44,
                    155,
                    19,
                    20,
                    15,
                    18,
                    157,
                    141,
                    284,
                    440,
                    28,
                    33,
                    15,
                    28,
                    93,
                    76,
                    26,
                    69,
                    52,
                    48,
                    48,
                    34,
                    44,
                    12,
                    59,
                    49,
                    33,
                    10,
                    102,
                    20,
                    10,
                    55,
                    31,
                    32,
                    28,
                    41,
                    15,
                    30,
                    25,
                    23,
                    29,
                    52,
                    35,
                    18,
                    40,
                    35,
                    425,
                    26,
                    26,
                    50,
                    20,
                    25,
                    40,
                    15,
                    25,
                    22,
                    28,
                    37,
                    16,
                    159,
                    55,
                    22,
                    23,
                    21,
                    23,
                    22,
                    18,
                    30,
                    22,
                    13,
                    17,
                    64,
                    38,
                    33,
                    119,
                    15,
                    24,
                    622,
                    779,
                    28,
                    132,
                    91,
                    46,
                    18,
                    154,
                    18,
                    102,
                    31,
                    17,
                    96,
                    56,
                    133,
                    30,
                    196,
                    31,
                    52,
                    42,
                    18,
                    40,
                    62,
                    28,
                    29,
                    39,
                    39,
                    95,
                    43,
                    190,
                    119,
                    140,
                    31,
                    37,
                    22,
                    32,
                    48,
                    65,
                    16,
                    50,
                    74,
                    168,
                    69,
                    14,
                    24,
                    15,
                    12,
                    35,
                    21,
                    68,
                    12,
                    54,
                    14,
                    110,
                    12,
                    509,
                    88,
                    46,
                    67,
                    25,
                    85,
                    24,
                    21,
                    29,
                    46,
                    23,
                    67,
                    41,
                    47,
                    39,
                    60,
                    74,
                    25,
                    20,
                    29,
                    58,
                    20,
                    139,
                    25,
                    80,
                    382,
                    75,
                    321,
                    233,
                    173,
                    31,
                    22,
                    22,
                    22,
                    20,
                    91,
                    213,
                    131,
                    46,
                    54,
                    50,
                    48,
                    41,
                    58,
                    28,
                    20,
                    35,
                    48,
                    29,
                    21
                  ],
                  "xaxis": "x",
                  "y": [
                    100,
                    68,
                    20,
                    59,
                    14,
                    12,
                    11,
                    19,
                    58,
                    59,
                    56,
                    58,
                    30,
                    41,
                    53,
                    441,
                    23,
                    245,
                    245,
                    28,
                    34,
                    66,
                    55,
                    45,
                    731,
                    731,
                    850,
                    30,
                    21,
                    111,
                    44,
                    23,
                    57,
                    57,
                    80,
                    36,
                    77,
                    66,
                    73,
                    50,
                    110,
                    47,
                    576,
                    15,
                    178,
                    27,
                    960,
                    28,
                    178,
                    14,
                    19,
                    406,
                    150,
                    61,
                    61,
                    23,
                    54,
                    18,
                    24,
                    16,
                    43,
                    43,
                    97,
                    86,
                    88,
                    95,
                    58,
                    26,
                    17,
                    397,
                    29,
                    24,
                    16,
                    22,
                    41,
                    17,
                    127,
                    24,
                    79,
                    142,
                    26,
                    12,
                    152,
                    31,
                    45,
                    56,
                    59,
                    34,
                    350,
                    850,
                    794,
                    850,
                    400,
                    202,
                    23,
                    630,
                    950,
                    161,
                    405,
                    28,
                    23,
                    45,
                    23,
                    28,
                    92,
                    92,
                    39,
                    39,
                    34,
                    10,
                    116,
                    39,
                    98,
                    285,
                    64,
                    149,
                    2946,
                    1600,
                    1050,
                    275,
                    113,
                    84,
                    18,
                    29,
                    25,
                    88,
                    40,
                    83,
                    65,
                    58,
                    28,
                    31,
                    14,
                    36,
                    4929,
                    90,
                    140,
                    140,
                    66,
                    21,
                    30,
                    139,
                    139,
                    87,
                    22,
                    38,
                    30,
                    26,
                    27,
                    42,
                    20,
                    40,
                    27,
                    233,
                    138,
                    82,
                    35,
                    35,
                    32,
                    350,
                    187,
                    66,
                    62,
                    62,
                    74,
                    66,
                    67,
                    41,
                    32,
                    37,
                    602,
                    63,
                    34,
                    34,
                    31,
                    99,
                    42,
                    29,
                    25,
                    29,
                    37,
                    43,
                    17,
                    19,
                    103,
                    145,
                    247,
                    38,
                    28,
                    114,
                    104,
                    51,
                    25,
                    32,
                    54,
                    104,
                    32,
                    18,
                    1050,
                    53,
                    53,
                    23,
                    21,
                    26,
                    22,
                    60,
                    1500,
                    95,
                    33,
                    14,
                    180,
                    127,
                    58,
                    34,
                    148,
                    16,
                    31,
                    30,
                    39,
                    46,
                    24,
                    28,
                    19,
                    44,
                    51,
                    62,
                    15,
                    13,
                    21,
                    85,
                    231,
                    156,
                    89,
                    27,
                    298,
                    40,
                    16,
                    35,
                    48,
                    30,
                    46,
                    23,
                    23,
                    19,
                    18,
                    79,
                    28,
                    29,
                    25,
                    22,
                    40,
                    40,
                    15,
                    21,
                    48,
                    17,
                    86,
                    34,
                    130,
                    87,
                    140,
                    54,
                    21,
                    92,
                    34,
                    54,
                    29,
                    75,
                    20,
                    54,
                    231,
                    500,
                    18,
                    22,
                    19,
                    20,
                    40,
                    20,
                    14,
                    48,
                    15,
                    14,
                    21,
                    48,
                    24,
                    12,
                    20,
                    39,
                    105,
                    44,
                    14,
                    24,
                    41,
                    21,
                    41,
                    19,
                    25,
                    15,
                    35,
                    25,
                    30,
                    32,
                    17,
                    17,
                    16,
                    113,
                    47,
                    18,
                    250,
                    22,
                    47,
                    54,
                    22,
                    65,
                    21,
                    82,
                    30,
                    232,
                    16,
                    27,
                    58,
                    34,
                    67,
                    37,
                    23,
                    90,
                    33,
                    20,
                    23,
                    68,
                    56,
                    113,
                    25,
                    24,
                    19,
                    143,
                    68,
                    50,
                    30,
                    33,
                    138,
                    32,
                    28,
                    40,
                    44,
                    11,
                    105,
                    14,
                    15,
                    58,
                    38,
                    33,
                    176,
                    23,
                    26,
                    30,
                    38,
                    34,
                    70,
                    26,
                    28,
                    15,
                    29,
                    57,
                    43,
                    35,
                    52,
                    20,
                    25,
                    37,
                    29,
                    17,
                    25,
                    23,
                    31,
                    33,
                    13,
                    41,
                    22,
                    53,
                    43,
                    22,
                    12,
                    91,
                    30,
                    21,
                    20,
                    40,
                    35,
                    35,
                    20,
                    92,
                    68,
                    56,
                    20,
                    32,
                    70,
                    50,
                    145,
                    20,
                    236,
                    108,
                    22,
                    26,
                    21,
                    58,
                    108,
                    73,
                    190,
                    850,
                    44,
                    71,
                    30,
                    24,
                    40,
                    180,
                    29,
                    50,
                    65,
                    57,
                    71,
                    42,
                    59,
                    15,
                    126,
                    42,
                    66,
                    12,
                    141,
                    33,
                    13,
                    87,
                    24,
                    36,
                    21,
                    80,
                    44,
                    90,
                    18,
                    20,
                    39,
                    102,
                    81,
                    19,
                    46,
                    20,
                    511,
                    25,
                    27,
                    72,
                    25,
                    36,
                    23,
                    16,
                    22,
                    43,
                    35,
                    19,
                    46,
                    51,
                    23,
                    18,
                    42,
                    53,
                    42,
                    16,
                    108,
                    54,
                    32,
                    56,
                    26,
                    33,
                    21,
                    135,
                    42,
                    25,
                    32,
                    497,
                    844,
                    51,
                    368,
                    188,
                    57,
                    40,
                    248,
                    15,
                    190,
                    26,
                    29,
                    57,
                    111,
                    103,
                    28,
                    401,
                    29,
                    31,
                    39,
                    22,
                    70,
                    55,
                    76,
                    30,
                    221,
                    79,
                    235,
                    185,
                    73,
                    230,
                    540,
                    36,
                    48,
                    28,
                    24,
                    58,
                    181,
                    24,
                    28,
                    68,
                    630,
                    155,
                    25,
                    15,
                    16,
                    15,
                    32,
                    63,
                    200,
                    38,
                    152,
                    21,
                    186,
                    17,
                    623,
                    74,
                    52,
                    220,
                    75,
                    78,
                    45,
                    23,
                    19,
                    47,
                    27,
                    42,
                    42,
                    32,
                    348,
                    186,
                    141,
                    41,
                    22,
                    30,
                    140,
                    43,
                    87,
                    27,
                    125,
                    330,
                    138,
                    562,
                    384,
                    367,
                    83,
                    34,
                    143,
                    31,
                    40,
                    101,
                    168,
                    90,
                    134,
                    125,
                    88,
                    92,
                    88,
                    80,
                    47,
                    34,
                    31,
                    49,
                    32,
                    24
                  ],
                  "yaxis": "y"
                }
              ],
              "layout": {
                "legend": {
                  "tracegroupgap": 0
                },
                "margin": {
                  "t": 60
                },
                "template": {
                  "data": {
                    "bar": [
                      {
                        "error_x": {
                          "color": "#2a3f5f"
                        },
                        "error_y": {
                          "color": "#2a3f5f"
                        },
                        "marker": {
                          "line": {
                            "color": "#E5ECF6",
                            "width": 0.5
                          },
                          "pattern": {
                            "fillmode": "overlay",
                            "size": 10,
                            "solidity": 0.2
                          }
                        },
                        "type": "bar"
                      }
                    ],
                    "barpolar": [
                      {
                        "marker": {
                          "line": {
                            "color": "#E5ECF6",
                            "width": 0.5
                          },
                          "pattern": {
                            "fillmode": "overlay",
                            "size": 10,
                            "solidity": 0.2
                          }
                        },
                        "type": "barpolar"
                      }
                    ],
                    "carpet": [
                      {
                        "aaxis": {
                          "endlinecolor": "#2a3f5f",
                          "gridcolor": "white",
                          "linecolor": "white",
                          "minorgridcolor": "white",
                          "startlinecolor": "#2a3f5f"
                        },
                        "baxis": {
                          "endlinecolor": "#2a3f5f",
                          "gridcolor": "white",
                          "linecolor": "white",
                          "minorgridcolor": "white",
                          "startlinecolor": "#2a3f5f"
                        },
                        "type": "carpet"
                      }
                    ],
                    "choropleth": [
                      {
                        "colorbar": {
                          "outlinewidth": 0,
                          "ticks": ""
                        },
                        "type": "choropleth"
                      }
                    ],
                    "contour": [
                      {
                        "colorbar": {
                          "outlinewidth": 0,
                          "ticks": ""
                        },
                        "colorscale": [
                          [
                            0,
                            "#0d0887"
                          ],
                          [
                            0.1111111111111111,
                            "#46039f"
                          ],
                          [
                            0.2222222222222222,
                            "#7201a8"
                          ],
                          [
                            0.3333333333333333,
                            "#9c179e"
                          ],
                          [
                            0.4444444444444444,
                            "#bd3786"
                          ],
                          [
                            0.5555555555555556,
                            "#d8576b"
                          ],
                          [
                            0.6666666666666666,
                            "#ed7953"
                          ],
                          [
                            0.7777777777777778,
                            "#fb9f3a"
                          ],
                          [
                            0.8888888888888888,
                            "#fdca26"
                          ],
                          [
                            1,
                            "#f0f921"
                          ]
                        ],
                        "type": "contour"
                      }
                    ],
                    "contourcarpet": [
                      {
                        "colorbar": {
                          "outlinewidth": 0,
                          "ticks": ""
                        },
                        "type": "contourcarpet"
                      }
                    ],
                    "heatmap": [
                      {
                        "colorbar": {
                          "outlinewidth": 0,
                          "ticks": ""
                        },
                        "colorscale": [
                          [
                            0,
                            "#0d0887"
                          ],
                          [
                            0.1111111111111111,
                            "#46039f"
                          ],
                          [
                            0.2222222222222222,
                            "#7201a8"
                          ],
                          [
                            0.3333333333333333,
                            "#9c179e"
                          ],
                          [
                            0.4444444444444444,
                            "#bd3786"
                          ],
                          [
                            0.5555555555555556,
                            "#d8576b"
                          ],
                          [
                            0.6666666666666666,
                            "#ed7953"
                          ],
                          [
                            0.7777777777777778,
                            "#fb9f3a"
                          ],
                          [
                            0.8888888888888888,
                            "#fdca26"
                          ],
                          [
                            1,
                            "#f0f921"
                          ]
                        ],
                        "type": "heatmap"
                      }
                    ],
                    "heatmapgl": [
                      {
                        "colorbar": {
                          "outlinewidth": 0,
                          "ticks": ""
                        },
                        "colorscale": [
                          [
                            0,
                            "#0d0887"
                          ],
                          [
                            0.1111111111111111,
                            "#46039f"
                          ],
                          [
                            0.2222222222222222,
                            "#7201a8"
                          ],
                          [
                            0.3333333333333333,
                            "#9c179e"
                          ],
                          [
                            0.4444444444444444,
                            "#bd3786"
                          ],
                          [
                            0.5555555555555556,
                            "#d8576b"
                          ],
                          [
                            0.6666666666666666,
                            "#ed7953"
                          ],
                          [
                            0.7777777777777778,
                            "#fb9f3a"
                          ],
                          [
                            0.8888888888888888,
                            "#fdca26"
                          ],
                          [
                            1,
                            "#f0f921"
                          ]
                        ],
                        "type": "heatmapgl"
                      }
                    ],
                    "histogram": [
                      {
                        "marker": {
                          "pattern": {
                            "fillmode": "overlay",
                            "size": 10,
                            "solidity": 0.2
                          }
                        },
                        "type": "histogram"
                      }
                    ],
                    "histogram2d": [
                      {
                        "colorbar": {
                          "outlinewidth": 0,
                          "ticks": ""
                        },
                        "colorscale": [
                          [
                            0,
                            "#0d0887"
                          ],
                          [
                            0.1111111111111111,
                            "#46039f"
                          ],
                          [
                            0.2222222222222222,
                            "#7201a8"
                          ],
                          [
                            0.3333333333333333,
                            "#9c179e"
                          ],
                          [
                            0.4444444444444444,
                            "#bd3786"
                          ],
                          [
                            0.5555555555555556,
                            "#d8576b"
                          ],
                          [
                            0.6666666666666666,
                            "#ed7953"
                          ],
                          [
                            0.7777777777777778,
                            "#fb9f3a"
                          ],
                          [
                            0.8888888888888888,
                            "#fdca26"
                          ],
                          [
                            1,
                            "#f0f921"
                          ]
                        ],
                        "type": "histogram2d"
                      }
                    ],
                    "histogram2dcontour": [
                      {
                        "colorbar": {
                          "outlinewidth": 0,
                          "ticks": ""
                        },
                        "colorscale": [
                          [
                            0,
                            "#0d0887"
                          ],
                          [
                            0.1111111111111111,
                            "#46039f"
                          ],
                          [
                            0.2222222222222222,
                            "#7201a8"
                          ],
                          [
                            0.3333333333333333,
                            "#9c179e"
                          ],
                          [
                            0.4444444444444444,
                            "#bd3786"
                          ],
                          [
                            0.5555555555555556,
                            "#d8576b"
                          ],
                          [
                            0.6666666666666666,
                            "#ed7953"
                          ],
                          [
                            0.7777777777777778,
                            "#fb9f3a"
                          ],
                          [
                            0.8888888888888888,
                            "#fdca26"
                          ],
                          [
                            1,
                            "#f0f921"
                          ]
                        ],
                        "type": "histogram2dcontour"
                      }
                    ],
                    "mesh3d": [
                      {
                        "colorbar": {
                          "outlinewidth": 0,
                          "ticks": ""
                        },
                        "type": "mesh3d"
                      }
                    ],
                    "parcoords": [
                      {
                        "line": {
                          "colorbar": {
                            "outlinewidth": 0,
                            "ticks": ""
                          }
                        },
                        "type": "parcoords"
                      }
                    ],
                    "pie": [
                      {
                        "automargin": true,
                        "type": "pie"
                      }
                    ],
                    "scatter": [
                      {
                        "fillpattern": {
                          "fillmode": "overlay",
                          "size": 10,
                          "solidity": 0.2
                        },
                        "type": "scatter"
                      }
                    ],
                    "scatter3d": [
                      {
                        "line": {
                          "colorbar": {
                            "outlinewidth": 0,
                            "ticks": ""
                          }
                        },
                        "marker": {
                          "colorbar": {
                            "outlinewidth": 0,
                            "ticks": ""
                          }
                        },
                        "type": "scatter3d"
                      }
                    ],
                    "scattercarpet": [
                      {
                        "marker": {
                          "colorbar": {
                            "outlinewidth": 0,
                            "ticks": ""
                          }
                        },
                        "type": "scattercarpet"
                      }
                    ],
                    "scattergeo": [
                      {
                        "marker": {
                          "colorbar": {
                            "outlinewidth": 0,
                            "ticks": ""
                          }
                        },
                        "type": "scattergeo"
                      }
                    ],
                    "scattergl": [
                      {
                        "marker": {
                          "colorbar": {
                            "outlinewidth": 0,
                            "ticks": ""
                          }
                        },
                        "type": "scattergl"
                      }
                    ],
                    "scattermapbox": [
                      {
                        "marker": {
                          "colorbar": {
                            "outlinewidth": 0,
                            "ticks": ""
                          }
                        },
                        "type": "scattermapbox"
                      }
                    ],
                    "scatterpolar": [
                      {
                        "marker": {
                          "colorbar": {
                            "outlinewidth": 0,
                            "ticks": ""
                          }
                        },
                        "type": "scatterpolar"
                      }
                    ],
                    "scatterpolargl": [
                      {
                        "marker": {
                          "colorbar": {
                            "outlinewidth": 0,
                            "ticks": ""
                          }
                        },
                        "type": "scatterpolargl"
                      }
                    ],
                    "scatterternary": [
                      {
                        "marker": {
                          "colorbar": {
                            "outlinewidth": 0,
                            "ticks": ""
                          }
                        },
                        "type": "scatterternary"
                      }
                    ],
                    "surface": [
                      {
                        "colorbar": {
                          "outlinewidth": 0,
                          "ticks": ""
                        },
                        "colorscale": [
                          [
                            0,
                            "#0d0887"
                          ],
                          [
                            0.1111111111111111,
                            "#46039f"
                          ],
                          [
                            0.2222222222222222,
                            "#7201a8"
                          ],
                          [
                            0.3333333333333333,
                            "#9c179e"
                          ],
                          [
                            0.4444444444444444,
                            "#bd3786"
                          ],
                          [
                            0.5555555555555556,
                            "#d8576b"
                          ],
                          [
                            0.6666666666666666,
                            "#ed7953"
                          ],
                          [
                            0.7777777777777778,
                            "#fb9f3a"
                          ],
                          [
                            0.8888888888888888,
                            "#fdca26"
                          ],
                          [
                            1,
                            "#f0f921"
                          ]
                        ],
                        "type": "surface"
                      }
                    ],
                    "table": [
                      {
                        "cells": {
                          "fill": {
                            "color": "#EBF0F8"
                          },
                          "line": {
                            "color": "white"
                          }
                        },
                        "header": {
                          "fill": {
                            "color": "#C8D4E3"
                          },
                          "line": {
                            "color": "white"
                          }
                        },
                        "type": "table"
                      }
                    ]
                  },
                  "layout": {
                    "annotationdefaults": {
                      "arrowcolor": "#2a3f5f",
                      "arrowhead": 0,
                      "arrowwidth": 1
                    },
                    "autotypenumbers": "strict",
                    "coloraxis": {
                      "colorbar": {
                        "outlinewidth": 0,
                        "ticks": ""
                      }
                    },
                    "colorscale": {
                      "diverging": [
                        [
                          0,
                          "#8e0152"
                        ],
                        [
                          0.1,
                          "#c51b7d"
                        ],
                        [
                          0.2,
                          "#de77ae"
                        ],
                        [
                          0.3,
                          "#f1b6da"
                        ],
                        [
                          0.4,
                          "#fde0ef"
                        ],
                        [
                          0.5,
                          "#f7f7f7"
                        ],
                        [
                          0.6,
                          "#e6f5d0"
                        ],
                        [
                          0.7,
                          "#b8e186"
                        ],
                        [
                          0.8,
                          "#7fbc41"
                        ],
                        [
                          0.9,
                          "#4d9221"
                        ],
                        [
                          1,
                          "#276419"
                        ]
                      ],
                      "sequential": [
                        [
                          0,
                          "#0d0887"
                        ],
                        [
                          0.1111111111111111,
                          "#46039f"
                        ],
                        [
                          0.2222222222222222,
                          "#7201a8"
                        ],
                        [
                          0.3333333333333333,
                          "#9c179e"
                        ],
                        [
                          0.4444444444444444,
                          "#bd3786"
                        ],
                        [
                          0.5555555555555556,
                          "#d8576b"
                        ],
                        [
                          0.6666666666666666,
                          "#ed7953"
                        ],
                        [
                          0.7777777777777778,
                          "#fb9f3a"
                        ],
                        [
                          0.8888888888888888,
                          "#fdca26"
                        ],
                        [
                          1,
                          "#f0f921"
                        ]
                      ],
                      "sequentialminus": [
                        [
                          0,
                          "#0d0887"
                        ],
                        [
                          0.1111111111111111,
                          "#46039f"
                        ],
                        [
                          0.2222222222222222,
                          "#7201a8"
                        ],
                        [
                          0.3333333333333333,
                          "#9c179e"
                        ],
                        [
                          0.4444444444444444,
                          "#bd3786"
                        ],
                        [
                          0.5555555555555556,
                          "#d8576b"
                        ],
                        [
                          0.6666666666666666,
                          "#ed7953"
                        ],
                        [
                          0.7777777777777778,
                          "#fb9f3a"
                        ],
                        [
                          0.8888888888888888,
                          "#fdca26"
                        ],
                        [
                          1,
                          "#f0f921"
                        ]
                      ]
                    },
                    "colorway": [
                      "#636efa",
                      "#EF553B",
                      "#00cc96",
                      "#ab63fa",
                      "#FFA15A",
                      "#19d3f3",
                      "#FF6692",
                      "#B6E880",
                      "#FF97FF",
                      "#FECB52"
                    ],
                    "font": {
                      "color": "#2a3f5f"
                    },
                    "geo": {
                      "bgcolor": "white",
                      "lakecolor": "white",
                      "landcolor": "#E5ECF6",
                      "showlakes": true,
                      "showland": true,
                      "subunitcolor": "white"
                    },
                    "hoverlabel": {
                      "align": "left"
                    },
                    "hovermode": "closest",
                    "mapbox": {
                      "style": "light"
                    },
                    "paper_bgcolor": "white",
                    "plot_bgcolor": "#E5ECF6",
                    "polar": {
                      "angularaxis": {
                        "gridcolor": "white",
                        "linecolor": "white",
                        "ticks": ""
                      },
                      "bgcolor": "#E5ECF6",
                      "radialaxis": {
                        "gridcolor": "white",
                        "linecolor": "white",
                        "ticks": ""
                      }
                    },
                    "scene": {
                      "xaxis": {
                        "backgroundcolor": "#E5ECF6",
                        "gridcolor": "white",
                        "gridwidth": 2,
                        "linecolor": "white",
                        "showbackground": true,
                        "ticks": "",
                        "zerolinecolor": "white"
                      },
                      "yaxis": {
                        "backgroundcolor": "#E5ECF6",
                        "gridcolor": "white",
                        "gridwidth": 2,
                        "linecolor": "white",
                        "showbackground": true,
                        "ticks": "",
                        "zerolinecolor": "white"
                      },
                      "zaxis": {
                        "backgroundcolor": "#E5ECF6",
                        "gridcolor": "white",
                        "gridwidth": 2,
                        "linecolor": "white",
                        "showbackground": true,
                        "ticks": "",
                        "zerolinecolor": "white"
                      }
                    },
                    "shapedefaults": {
                      "line": {
                        "color": "#2a3f5f"
                      }
                    },
                    "ternary": {
                      "aaxis": {
                        "gridcolor": "white",
                        "linecolor": "white",
                        "ticks": ""
                      },
                      "baxis": {
                        "gridcolor": "white",
                        "linecolor": "white",
                        "ticks": ""
                      },
                      "bgcolor": "#E5ECF6",
                      "caxis": {
                        "gridcolor": "white",
                        "linecolor": "white",
                        "ticks": ""
                      }
                    },
                    "title": {
                      "x": 0.05
                    },
                    "xaxis": {
                      "automargin": true,
                      "gridcolor": "white",
                      "linecolor": "white",
                      "ticks": "",
                      "title": {
                        "standoff": 15
                      },
                      "zerolinecolor": "white",
                      "zerolinewidth": 2
                    },
                    "yaxis": {
                      "automargin": true,
                      "gridcolor": "white",
                      "linecolor": "white",
                      "ticks": "",
                      "title": {
                        "standoff": 15
                      },
                      "zerolinecolor": "white",
                      "zerolinewidth": 2
                    }
                  }
                },
                "xaxis": {
                  "anchor": "y",
                  "domain": [
                    0,
                    1
                  ],
                  "title": {
                    "text": "Alamine_Aminotransferase"
                  }
                },
                "yaxis": {
                  "anchor": "x",
                  "domain": [
                    0,
                    1
                  ],
                  "title": {
                    "text": "Aspartate_Aminotransferase"
                  }
                }
              }
            },
            "text/html": [
              "<div>                            <div id=\"01d61abb-8197-4e1f-93af-967f0656e0eb\" class=\"plotly-graph-div\" style=\"height:525px; width:100%;\"></div>            <script type=\"text/javascript\">                require([\"plotly\"], function(Plotly) {                    window.PLOTLYENV=window.PLOTLYENV || {};                                    if (document.getElementById(\"01d61abb-8197-4e1f-93af-967f0656e0eb\")) {                    Plotly.newPlot(                        \"01d61abb-8197-4e1f-93af-967f0656e0eb\",                        [{\"hovertemplate\":\"Alamine_Aminotransferase=%{x}<br>Aspartate_Aminotransferase=%{y}<extra></extra>\",\"legendgroup\":\"\",\"marker\":{\"color\":\"#636efa\",\"symbol\":\"circle\"},\"mode\":\"markers\",\"name\":\"\",\"orientation\":\"v\",\"showlegend\":false,\"x\":[64,60,14,27,19,16,14,22,53,51,31,61,22,53,91,168,15,232,232,17,22,116,16,52,875,875,1680,20,13,45,35,19,59,59,102,18,38,38,123,33,42,25,407,17,48,36,1630,39,64,21,15,80,86,31,31,26,24,42,20,21,37,37,35,40,62,55,53,27,24,166,20,27,22,20,52,189,95,12,48,60,25,14,194,45,58,28,33,33,119,412,404,412,220,126,25,102,190,97,308,27,21,36,14,21,32,32,29,29,25,11,33,63,24,181,88,74,2000,1350,1250,482,322,60,17,36,45,133,46,61,57,50,18,34,17,35,1250,62,72,72,25,20,15,84,84,63,18,21,20,20,21,30,18,20,26,45,58,70,20,20,36,140,99,43,42,42,13,40,64,53,33,28,378,35,48,48,43,112,71,37,30,23,33,36,20,18,60,79,114,42,32,118,107,79,30,48,30,52,12,22,790,50,50,19,27,27,28,50,950,53,23,20,60,82,25,18,17,36,30,38,41,27,38,40,20,56,45,38,18,26,26,61,85,149,48,32,230,57,20,40,69,32,24,30,25,20,15,22,25,37,28,38,37,48,12,90,89,23,148,31,65,56,205,55,25,55,30,38,12,50,15,96,152,390,15,25,22,25,45,25,18,56,18,12,10,30,29,15,15,16,120,48,32,22,37,25,78,16,24,26,40,32,21,28,18,21,36,74,21,22,178,48,43,25,25,24,18,29,42,179,21,31,30,36,47,42,27,160,11,29,14,54,62,80,21,17,24,198,85,79,50,44,70,36,40,60,32,14,349,19,19,62,41,36,110,25,13,21,50,28,42,47,23,21,26,33,28,28,45,22,24,30,30,29,32,26,32,35,12,20,16,36,28,27,10,115,29,25,34,31,31,23,25,94,142,37,24,30,28,25,137,24,44,155,19,20,15,18,157,141,284,440,28,33,15,28,93,76,26,69,52,48,48,34,44,12,59,49,33,10,102,20,10,55,31,32,28,41,15,30,25,23,29,52,35,18,40,35,425,26,26,50,20,25,40,15,25,22,28,37,16,159,55,22,23,21,23,22,18,30,22,13,17,64,38,33,119,15,24,622,779,28,132,91,46,18,154,18,102,31,17,96,56,133,30,196,31,52,42,18,40,62,28,29,39,39,95,43,190,119,140,31,37,22,32,48,65,16,50,74,168,69,14,24,15,12,35,21,68,12,54,14,110,12,509,88,46,67,25,85,24,21,29,46,23,67,41,47,39,60,74,25,20,29,58,20,139,25,80,382,75,321,233,173,31,22,22,22,20,91,213,131,46,54,50,48,41,58,28,20,35,48,29,21],\"xaxis\":\"x\",\"y\":[100,68,20,59,14,12,11,19,58,59,56,58,30,41,53,441,23,245,245,28,34,66,55,45,731,731,850,30,21,111,44,23,57,57,80,36,77,66,73,50,110,47,576,15,178,27,960,28,178,14,19,406,150,61,61,23,54,18,24,16,43,43,97,86,88,95,58,26,17,397,29,24,16,22,41,17,127,24,79,142,26,12,152,31,45,56,59,34,350,850,794,850,400,202,23,630,950,161,405,28,23,45,23,28,92,92,39,39,34,10,116,39,98,285,64,149,2946,1600,1050,275,113,84,18,29,25,88,40,83,65,58,28,31,14,36,4929,90,140,140,66,21,30,139,139,87,22,38,30,26,27,42,20,40,27,233,138,82,35,35,32,350,187,66,62,62,74,66,67,41,32,37,602,63,34,34,31,99,42,29,25,29,37,43,17,19,103,145,247,38,28,114,104,51,25,32,54,104,32,18,1050,53,53,23,21,26,22,60,1500,95,33,14,180,127,58,34,148,16,31,30,39,46,24,28,19,44,51,62,15,13,21,85,231,156,89,27,298,40,16,35,48,30,46,23,23,19,18,79,28,29,25,22,40,40,15,21,48,17,86,34,130,87,140,54,21,92,34,54,29,75,20,54,231,500,18,22,19,20,40,20,14,48,15,14,21,48,24,12,20,39,105,44,14,24,41,21,41,19,25,15,35,25,30,32,17,17,16,113,47,18,250,22,47,54,22,65,21,82,30,232,16,27,58,34,67,37,23,90,33,20,23,68,56,113,25,24,19,143,68,50,30,33,138,32,28,40,44,11,105,14,15,58,38,33,176,23,26,30,38,34,70,26,28,15,29,57,43,35,52,20,25,37,29,17,25,23,31,33,13,41,22,53,43,22,12,91,30,21,20,40,35,35,20,92,68,56,20,32,70,50,145,20,236,108,22,26,21,58,108,73,190,850,44,71,30,24,40,180,29,50,65,57,71,42,59,15,126,42,66,12,141,33,13,87,24,36,21,80,44,90,18,20,39,102,81,19,46,20,511,25,27,72,25,36,23,16,22,43,35,19,46,51,23,18,42,53,42,16,108,54,32,56,26,33,21,135,42,25,32,497,844,51,368,188,57,40,248,15,190,26,29,57,111,103,28,401,29,31,39,22,70,55,76,30,221,79,235,185,73,230,540,36,48,28,24,58,181,24,28,68,630,155,25,15,16,15,32,63,200,38,152,21,186,17,623,74,52,220,75,78,45,23,19,47,27,42,42,32,348,186,141,41,22,30,140,43,87,27,125,330,138,562,384,367,83,34,143,31,40,101,168,90,134,125,88,92,88,80,47,34,31,49,32,24],\"yaxis\":\"y\",\"type\":\"scatter\"}],                        {\"template\":{\"data\":{\"histogram2dcontour\":[{\"type\":\"histogram2dcontour\",\"colorbar\":{\"outlinewidth\":0,\"ticks\":\"\"},\"colorscale\":[[0.0,\"#0d0887\"],[0.1111111111111111,\"#46039f\"],[0.2222222222222222,\"#7201a8\"],[0.3333333333333333,\"#9c179e\"],[0.4444444444444444,\"#bd3786\"],[0.5555555555555556,\"#d8576b\"],[0.6666666666666666,\"#ed7953\"],[0.7777777777777778,\"#fb9f3a\"],[0.8888888888888888,\"#fdca26\"],[1.0,\"#f0f921\"]]}],\"choropleth\":[{\"type\":\"choropleth\",\"colorbar\":{\"outlinewidth\":0,\"ticks\":\"\"}}],\"histogram2d\":[{\"type\":\"histogram2d\",\"colorbar\":{\"outlinewidth\":0,\"ticks\":\"\"},\"colorscale\":[[0.0,\"#0d0887\"],[0.1111111111111111,\"#46039f\"],[0.2222222222222222,\"#7201a8\"],[0.3333333333333333,\"#9c179e\"],[0.4444444444444444,\"#bd3786\"],[0.5555555555555556,\"#d8576b\"],[0.6666666666666666,\"#ed7953\"],[0.7777777777777778,\"#fb9f3a\"],[0.8888888888888888,\"#fdca26\"],[1.0,\"#f0f921\"]]}],\"heatmap\":[{\"type\":\"heatmap\",\"colorbar\":{\"outlinewidth\":0,\"ticks\":\"\"},\"colorscale\":[[0.0,\"#0d0887\"],[0.1111111111111111,\"#46039f\"],[0.2222222222222222,\"#7201a8\"],[0.3333333333333333,\"#9c179e\"],[0.4444444444444444,\"#bd3786\"],[0.5555555555555556,\"#d8576b\"],[0.6666666666666666,\"#ed7953\"],[0.7777777777777778,\"#fb9f3a\"],[0.8888888888888888,\"#fdca26\"],[1.0,\"#f0f921\"]]}],\"heatmapgl\":[{\"type\":\"heatmapgl\",\"colorbar\":{\"outlinewidth\":0,\"ticks\":\"\"},\"colorscale\":[[0.0,\"#0d0887\"],[0.1111111111111111,\"#46039f\"],[0.2222222222222222,\"#7201a8\"],[0.3333333333333333,\"#9c179e\"],[0.4444444444444444,\"#bd3786\"],[0.5555555555555556,\"#d8576b\"],[0.6666666666666666,\"#ed7953\"],[0.7777777777777778,\"#fb9f3a\"],[0.8888888888888888,\"#fdca26\"],[1.0,\"#f0f921\"]]}],\"contourcarpet\":[{\"type\":\"contourcarpet\",\"colorbar\":{\"outlinewidth\":0,\"ticks\":\"\"}}],\"contour\":[{\"type\":\"contour\",\"colorbar\":{\"outlinewidth\":0,\"ticks\":\"\"},\"colorscale\":[[0.0,\"#0d0887\"],[0.1111111111111111,\"#46039f\"],[0.2222222222222222,\"#7201a8\"],[0.3333333333333333,\"#9c179e\"],[0.4444444444444444,\"#bd3786\"],[0.5555555555555556,\"#d8576b\"],[0.6666666666666666,\"#ed7953\"],[0.7777777777777778,\"#fb9f3a\"],[0.8888888888888888,\"#fdca26\"],[1.0,\"#f0f921\"]]}],\"surface\":[{\"type\":\"surface\",\"colorbar\":{\"outlinewidth\":0,\"ticks\":\"\"},\"colorscale\":[[0.0,\"#0d0887\"],[0.1111111111111111,\"#46039f\"],[0.2222222222222222,\"#7201a8\"],[0.3333333333333333,\"#9c179e\"],[0.4444444444444444,\"#bd3786\"],[0.5555555555555556,\"#d8576b\"],[0.6666666666666666,\"#ed7953\"],[0.7777777777777778,\"#fb9f3a\"],[0.8888888888888888,\"#fdca26\"],[1.0,\"#f0f921\"]]}],\"mesh3d\":[{\"type\":\"mesh3d\",\"colorbar\":{\"outlinewidth\":0,\"ticks\":\"\"}}],\"scatter\":[{\"fillpattern\":{\"fillmode\":\"overlay\",\"size\":10,\"solidity\":0.2},\"type\":\"scatter\"}],\"parcoords\":[{\"type\":\"parcoords\",\"line\":{\"colorbar\":{\"outlinewidth\":0,\"ticks\":\"\"}}}],\"scatterpolargl\":[{\"type\":\"scatterpolargl\",\"marker\":{\"colorbar\":{\"outlinewidth\":0,\"ticks\":\"\"}}}],\"bar\":[{\"error_x\":{\"color\":\"#2a3f5f\"},\"error_y\":{\"color\":\"#2a3f5f\"},\"marker\":{\"line\":{\"color\":\"#E5ECF6\",\"width\":0.5},\"pattern\":{\"fillmode\":\"overlay\",\"size\":10,\"solidity\":0.2}},\"type\":\"bar\"}],\"scattergeo\":[{\"type\":\"scattergeo\",\"marker\":{\"colorbar\":{\"outlinewidth\":0,\"ticks\":\"\"}}}],\"scatterpolar\":[{\"type\":\"scatterpolar\",\"marker\":{\"colorbar\":{\"outlinewidth\":0,\"ticks\":\"\"}}}],\"histogram\":[{\"marker\":{\"pattern\":{\"fillmode\":\"overlay\",\"size\":10,\"solidity\":0.2}},\"type\":\"histogram\"}],\"scattergl\":[{\"type\":\"scattergl\",\"marker\":{\"colorbar\":{\"outlinewidth\":0,\"ticks\":\"\"}}}],\"scatter3d\":[{\"type\":\"scatter3d\",\"line\":{\"colorbar\":{\"outlinewidth\":0,\"ticks\":\"\"}},\"marker\":{\"colorbar\":{\"outlinewidth\":0,\"ticks\":\"\"}}}],\"scattermapbox\":[{\"type\":\"scattermapbox\",\"marker\":{\"colorbar\":{\"outlinewidth\":0,\"ticks\":\"\"}}}],\"scatterternary\":[{\"type\":\"scatterternary\",\"marker\":{\"colorbar\":{\"outlinewidth\":0,\"ticks\":\"\"}}}],\"scattercarpet\":[{\"type\":\"scattercarpet\",\"marker\":{\"colorbar\":{\"outlinewidth\":0,\"ticks\":\"\"}}}],\"carpet\":[{\"aaxis\":{\"endlinecolor\":\"#2a3f5f\",\"gridcolor\":\"white\",\"linecolor\":\"white\",\"minorgridcolor\":\"white\",\"startlinecolor\":\"#2a3f5f\"},\"baxis\":{\"endlinecolor\":\"#2a3f5f\",\"gridcolor\":\"white\",\"linecolor\":\"white\",\"minorgridcolor\":\"white\",\"startlinecolor\":\"#2a3f5f\"},\"type\":\"carpet\"}],\"table\":[{\"cells\":{\"fill\":{\"color\":\"#EBF0F8\"},\"line\":{\"color\":\"white\"}},\"header\":{\"fill\":{\"color\":\"#C8D4E3\"},\"line\":{\"color\":\"white\"}},\"type\":\"table\"}],\"barpolar\":[{\"marker\":{\"line\":{\"color\":\"#E5ECF6\",\"width\":0.5},\"pattern\":{\"fillmode\":\"overlay\",\"size\":10,\"solidity\":0.2}},\"type\":\"barpolar\"}],\"pie\":[{\"automargin\":true,\"type\":\"pie\"}]},\"layout\":{\"autotypenumbers\":\"strict\",\"colorway\":[\"#636efa\",\"#EF553B\",\"#00cc96\",\"#ab63fa\",\"#FFA15A\",\"#19d3f3\",\"#FF6692\",\"#B6E880\",\"#FF97FF\",\"#FECB52\"],\"font\":{\"color\":\"#2a3f5f\"},\"hovermode\":\"closest\",\"hoverlabel\":{\"align\":\"left\"},\"paper_bgcolor\":\"white\",\"plot_bgcolor\":\"#E5ECF6\",\"polar\":{\"bgcolor\":\"#E5ECF6\",\"angularaxis\":{\"gridcolor\":\"white\",\"linecolor\":\"white\",\"ticks\":\"\"},\"radialaxis\":{\"gridcolor\":\"white\",\"linecolor\":\"white\",\"ticks\":\"\"}},\"ternary\":{\"bgcolor\":\"#E5ECF6\",\"aaxis\":{\"gridcolor\":\"white\",\"linecolor\":\"white\",\"ticks\":\"\"},\"baxis\":{\"gridcolor\":\"white\",\"linecolor\":\"white\",\"ticks\":\"\"},\"caxis\":{\"gridcolor\":\"white\",\"linecolor\":\"white\",\"ticks\":\"\"}},\"coloraxis\":{\"colorbar\":{\"outlinewidth\":0,\"ticks\":\"\"}},\"colorscale\":{\"sequential\":[[0.0,\"#0d0887\"],[0.1111111111111111,\"#46039f\"],[0.2222222222222222,\"#7201a8\"],[0.3333333333333333,\"#9c179e\"],[0.4444444444444444,\"#bd3786\"],[0.5555555555555556,\"#d8576b\"],[0.6666666666666666,\"#ed7953\"],[0.7777777777777778,\"#fb9f3a\"],[0.8888888888888888,\"#fdca26\"],[1.0,\"#f0f921\"]],\"sequentialminus\":[[0.0,\"#0d0887\"],[0.1111111111111111,\"#46039f\"],[0.2222222222222222,\"#7201a8\"],[0.3333333333333333,\"#9c179e\"],[0.4444444444444444,\"#bd3786\"],[0.5555555555555556,\"#d8576b\"],[0.6666666666666666,\"#ed7953\"],[0.7777777777777778,\"#fb9f3a\"],[0.8888888888888888,\"#fdca26\"],[1.0,\"#f0f921\"]],\"diverging\":[[0,\"#8e0152\"],[0.1,\"#c51b7d\"],[0.2,\"#de77ae\"],[0.3,\"#f1b6da\"],[0.4,\"#fde0ef\"],[0.5,\"#f7f7f7\"],[0.6,\"#e6f5d0\"],[0.7,\"#b8e186\"],[0.8,\"#7fbc41\"],[0.9,\"#4d9221\"],[1,\"#276419\"]]},\"xaxis\":{\"gridcolor\":\"white\",\"linecolor\":\"white\",\"ticks\":\"\",\"title\":{\"standoff\":15},\"zerolinecolor\":\"white\",\"automargin\":true,\"zerolinewidth\":2},\"yaxis\":{\"gridcolor\":\"white\",\"linecolor\":\"white\",\"ticks\":\"\",\"title\":{\"standoff\":15},\"zerolinecolor\":\"white\",\"automargin\":true,\"zerolinewidth\":2},\"scene\":{\"xaxis\":{\"backgroundcolor\":\"#E5ECF6\",\"gridcolor\":\"white\",\"linecolor\":\"white\",\"showbackground\":true,\"ticks\":\"\",\"zerolinecolor\":\"white\",\"gridwidth\":2},\"yaxis\":{\"backgroundcolor\":\"#E5ECF6\",\"gridcolor\":\"white\",\"linecolor\":\"white\",\"showbackground\":true,\"ticks\":\"\",\"zerolinecolor\":\"white\",\"gridwidth\":2},\"zaxis\":{\"backgroundcolor\":\"#E5ECF6\",\"gridcolor\":\"white\",\"linecolor\":\"white\",\"showbackground\":true,\"ticks\":\"\",\"zerolinecolor\":\"white\",\"gridwidth\":2}},\"shapedefaults\":{\"line\":{\"color\":\"#2a3f5f\"}},\"annotationdefaults\":{\"arrowcolor\":\"#2a3f5f\",\"arrowhead\":0,\"arrowwidth\":1},\"geo\":{\"bgcolor\":\"white\",\"landcolor\":\"#E5ECF6\",\"subunitcolor\":\"white\",\"showland\":true,\"showlakes\":true,\"lakecolor\":\"white\"},\"title\":{\"x\":0.05},\"mapbox\":{\"style\":\"light\"}}},\"xaxis\":{\"anchor\":\"y\",\"domain\":[0.0,1.0],\"title\":{\"text\":\"Alamine_Aminotransferase\"}},\"yaxis\":{\"anchor\":\"x\",\"domain\":[0.0,1.0],\"title\":{\"text\":\"Aspartate_Aminotransferase\"}},\"legend\":{\"tracegroupgap\":0},\"margin\":{\"t\":60}},                        {\"responsive\": true}                    ).then(function(){\n",
              "                            \n",
              "var gd = document.getElementById('01d61abb-8197-4e1f-93af-967f0656e0eb');\n",
              "var x = new MutationObserver(function (mutations, observer) {{\n",
              "        var display = window.getComputedStyle(gd).display;\n",
              "        if (!display || display === 'none') {{\n",
              "            console.log([gd, 'removed!']);\n",
              "            Plotly.purge(gd);\n",
              "            observer.disconnect();\n",
              "        }}\n",
              "}});\n",
              "\n",
              "// Listen for the removal of the full notebook cells\n",
              "var notebookContainer = gd.closest('#notebook-container');\n",
              "if (notebookContainer) {{\n",
              "    x.observe(notebookContainer, {childList: true});\n",
              "}}\n",
              "\n",
              "// Listen for the clearing of the current output cell\n",
              "var outputEl = gd.closest('.output');\n",
              "if (outputEl) {{\n",
              "    x.observe(outputEl, {childList: true});\n",
              "}}\n",
              "\n",
              "                        })                };                });            </script>        </div>"
            ]
          },
          "metadata": {},
          "output_type": "display_data"
        }
      ],
      "source": [
        "px.scatter(df, x='Alamine_Aminotransferase', y='Aspartate_Aminotransferase')"
      ]
    },
    {
      "cell_type": "code",
      "execution_count": null,
      "id": "407e3144",
      "metadata": {
        "id": "407e3144",
        "outputId": "23da29bc-ff41-4c4f-f138-a13630993f90"
      },
      "outputs": [
        {
          "data": {
            "image/png": "[encoded data removed]",
            "text/plain": [
              "<Figure size 1000x1000 with 16 Axes>"
            ]
          },
          "metadata": {},
          "output_type": "display_data"
        }
      ],
      "source": [
        "g = sns.PairGrid(df, hue=\"Dataset\", vars=['age','Gender_Encoded','Total_Bilirubin','Total_Protiens'])\n",
        "g.map(plt.scatter)\n",
        "plt.show()"
      ]
    },
    {
      "cell_type": "code",
      "execution_count": null,
      "id": "6b04af0f",
      "metadata": {
        "id": "6b04af0f",
        "outputId": "06f587dc-66ce-4787-91d0-b270359558bd"
      },
      "outputs": [
        {
          "name": "stdout",
          "output_type": "stream",
          "text": [
            "(407, 10) (407, 1) (175, 10) (175, 1)\n"
          ]
        }
      ],
      "source": [
        "X = df[['age', 'Total_Bilirubin', 'Direct_Bilirubin', 'Alkaline_Phosphotase',\n",
        "        'Alamine_Aminotransferase', 'Aspartate_Aminotransferase', 'Total_Protiens',\n",
        "        'Albumin', 'Albumin_and_Globulin_Ratio','Gender_Encoded']]\n",
        "y = df[['Dataset']]\n",
        "\n",
        "X_train, X_test, y_train, y_test = train_test_split(X, y, test_size=0.3, stratify=y)\n",
        "print (X_train.shape, y_train.shape, X_test.shape, y_test.shape)"
      ]
    },
    {
      "cell_type": "code",
      "execution_count": null,
      "id": "52d33bb3",
      "metadata": {
        "id": "52d33bb3",
        "outputId": "8d36765f-9397-4d91-9821-2b813259cefa"
      },
      "outputs": [
        {
          "name": "stdout",
          "output_type": "stream",
          "text": [
            "     age  Total_Bilirubin  Direct_Bilirubin  Alkaline_Phosphotase  \\\n",
            "197   41              0.9               0.2                   169   \n",
            "293   22              2.4               1.0                   340   \n",
            "131   18              0.8               0.2                   199   \n",
            "151   46              0.8               0.2                   182   \n",
            "\n",
            "     Alamine_Aminotransferase  Aspartate_Aminotransferase  Total_Protiens  \\\n",
            "197                        22                          18             6.1   \n",
            "293                        25                          21             8.3   \n",
            "131                        34                          31             6.5   \n",
            "151                        20                          40             6.0   \n",
            "\n",
            "     Albumin  Albumin_and_Globulin_Ratio  Gender_Encoded  \n",
            "197      3.0                        0.90               1  \n",
            "293      4.5                        1.10               1  \n",
            "131      3.5                        1.16               0  \n",
            "151      2.9                        0.90               0  \n",
            "__________________________________________________\n",
            "Mean Squared Error (MSE): 0.2857142857142857\n",
            "Cross-Validation Accuracy Scores:\n",
            "[0.76923077 0.73504274 0.72413793 0.72413793 0.63793103]\n",
            "______________________________\n",
            "Mean Cross-Validation Accuracy: 0.72\n",
            "Model Accuracy: 0.71\n",
            "______________________________\n",
            "Classification Report:\n",
            "              precision    recall  f1-score   support\n",
            "\n",
            "           1       0.77      0.86      0.81       125\n",
            "           2       0.50      0.34      0.40        50\n",
            "\n",
            "    accuracy                           0.71       175\n",
            "   macro avg       0.63      0.60      0.61       175\n",
            "weighted avg       0.69      0.71      0.70       175\n",
            "\n"
          ]
        },
        {
          "name": "stderr",
          "output_type": "stream",
          "text": [
            "/Users/madhumitha/anaconda3/lib/python3.11/site-packages/sklearn/utils/validation.py:1184: DataConversionWarning:\n",
            "\n",
            "A column-vector y was passed when a 1d array was expected. Please change the shape of y to (n_samples, ), for example using ravel().\n",
            "\n",
            "/Users/madhumitha/anaconda3/lib/python3.11/site-packages/sklearn/linear_model/_logistic.py:460: ConvergenceWarning:\n",
            "\n",
            "lbfgs failed to converge (status=1):\n",
            "STOP: TOTAL NO. of ITERATIONS REACHED LIMIT.\n",
            "\n",
            "Increase the number of iterations (max_iter) or scale the data as shown in:\n",
            "    https://scikit-learn.org/stable/modules/preprocessing.html\n",
            "Please also refer to the documentation for alternative solver options:\n",
            "    https://scikit-learn.org/stable/modules/linear_model.html#logistic-regression\n",
            "\n",
            "/Users/madhumitha/anaconda3/lib/python3.11/site-packages/sklearn/utils/validation.py:1184: DataConversionWarning:\n",
            "\n",
            "A column-vector y was passed when a 1d array was expected. Please change the shape of y to (n_samples, ), for example using ravel().\n",
            "\n",
            "/Users/madhumitha/anaconda3/lib/python3.11/site-packages/sklearn/linear_model/_logistic.py:460: ConvergenceWarning:\n",
            "\n",
            "lbfgs failed to converge (status=1):\n",
            "STOP: TOTAL NO. of ITERATIONS REACHED LIMIT.\n",
            "\n",
            "Increase the number of iterations (max_iter) or scale the data as shown in:\n",
            "    https://scikit-learn.org/stable/modules/preprocessing.html\n",
            "Please also refer to the documentation for alternative solver options:\n",
            "    https://scikit-learn.org/stable/modules/linear_model.html#logistic-regression\n",
            "\n",
            "/Users/madhumitha/anaconda3/lib/python3.11/site-packages/sklearn/utils/validation.py:1184: DataConversionWarning:\n",
            "\n",
            "A column-vector y was passed when a 1d array was expected. Please change the shape of y to (n_samples, ), for example using ravel().\n",
            "\n",
            "/Users/madhumitha/anaconda3/lib/python3.11/site-packages/sklearn/linear_model/_logistic.py:460: ConvergenceWarning:\n",
            "\n",
            "lbfgs failed to converge (status=1):\n",
            "STOP: TOTAL NO. of ITERATIONS REACHED LIMIT.\n",
            "\n",
            "Increase the number of iterations (max_iter) or scale the data as shown in:\n",
            "    https://scikit-learn.org/stable/modules/preprocessing.html\n",
            "Please also refer to the documentation for alternative solver options:\n",
            "    https://scikit-learn.org/stable/modules/linear_model.html#logistic-regression\n",
            "\n",
            "/Users/madhumitha/anaconda3/lib/python3.11/site-packages/sklearn/utils/validation.py:1184: DataConversionWarning:\n",
            "\n",
            "A column-vector y was passed when a 1d array was expected. Please change the shape of y to (n_samples, ), for example using ravel().\n",
            "\n",
            "/Users/madhumitha/anaconda3/lib/python3.11/site-packages/sklearn/linear_model/_logistic.py:460: ConvergenceWarning:\n",
            "\n",
            "lbfgs failed to converge (status=1):\n",
            "STOP: TOTAL NO. of ITERATIONS REACHED LIMIT.\n",
            "\n",
            "Increase the number of iterations (max_iter) or scale the data as shown in:\n",
            "    https://scikit-learn.org/stable/modules/preprocessing.html\n",
            "Please also refer to the documentation for alternative solver options:\n",
            "    https://scikit-learn.org/stable/modules/linear_model.html#logistic-regression\n",
            "\n",
            "/Users/madhumitha/anaconda3/lib/python3.11/site-packages/sklearn/utils/validation.py:1184: DataConversionWarning:\n",
            "\n",
            "A column-vector y was passed when a 1d array was expected. Please change the shape of y to (n_samples, ), for example using ravel().\n",
            "\n",
            "/Users/madhumitha/anaconda3/lib/python3.11/site-packages/sklearn/linear_model/_logistic.py:460: ConvergenceWarning:\n",
            "\n",
            "lbfgs failed to converge (status=1):\n",
            "STOP: TOTAL NO. of ITERATIONS REACHED LIMIT.\n",
            "\n",
            "Increase the number of iterations (max_iter) or scale the data as shown in:\n",
            "    https://scikit-learn.org/stable/modules/preprocessing.html\n",
            "Please also refer to the documentation for alternative solver options:\n",
            "    https://scikit-learn.org/stable/modules/linear_model.html#logistic-regression\n",
            "\n",
            "/Users/madhumitha/anaconda3/lib/python3.11/site-packages/sklearn/utils/validation.py:1184: DataConversionWarning:\n",
            "\n",
            "A column-vector y was passed when a 1d array was expected. Please change the shape of y to (n_samples, ), for example using ravel().\n",
            "\n",
            "/Users/madhumitha/anaconda3/lib/python3.11/site-packages/sklearn/linear_model/_logistic.py:460: ConvergenceWarning:\n",
            "\n",
            "lbfgs failed to converge (status=1):\n",
            "STOP: TOTAL NO. of ITERATIONS REACHED LIMIT.\n",
            "\n",
            "Increase the number of iterations (max_iter) or scale the data as shown in:\n",
            "    https://scikit-learn.org/stable/modules/preprocessing.html\n",
            "Please also refer to the documentation for alternative solver options:\n",
            "    https://scikit-learn.org/stable/modules/linear_model.html#logistic-regression\n",
            "\n"
          ]
        }
      ],
      "source": [
        "model = LogisticRegression(penalty='l2', solver='lbfgs', C=0.1)\n",
        "\n",
        "model.fit(X_train, y_train)\n",
        "#testing the model\n",
        "y_pred = model.predict(X_test)\n",
        "\n",
        "mse = mean_squared_error(y_test, y_pred)\n",
        "\n",
        "print(X_test.head(4))\n",
        "print('_'*50)\n",
        "print(\"Mean Squared Error (MSE):\", mse)\n",
        "\n",
        "# Perform K-Fold cross-validation\n",
        "cv = KFold(n_splits=5, shuffle=True, random_state=45)\n",
        "\n",
        "scores = cross_val_score(model, X, y, cv=cv, scoring='accuracy')\n",
        "\n",
        "print(\"Cross-Validation Accuracy Scores:\")\n",
        "print(scores)\n",
        "print('_'*30)\n",
        "print(f\"Mean Cross-Validation Accuracy: {scores.mean():.2f}\")\n",
        "\n",
        "# Evaluating model\n",
        "accuracy = accuracy_score(y_test, y_pred)\n",
        "classification_rep = classification_report(y_test, y_pred)\n",
        "\n",
        "print(f\"Model Accuracy: {accuracy :.2f}\")\n",
        "print('_'*30)\n",
        "print(\"Classification Report:\")\n",
        "print(classification_rep)"
      ]
    },
    {
      "cell_type": "code",
      "execution_count": null,
      "id": "87b4cafe",
      "metadata": {
        "id": "87b4cafe",
        "outputId": "e986f283-34ee-4db3-e4a9-ff81cd243525"
      },
      "outputs": [
        {
          "name": "stdout",
          "output_type": "stream",
          "text": [
            "Random Forest Score:  100.0\n",
            "Random Forest Test Score:  68.0\n",
            "Accuracy:  0.68\n",
            "\n",
            "Classification report: \n",
            "               precision    recall  f1-score   support\n",
            "\n",
            "           1       0.76      0.81      0.78       125\n",
            "           2       0.43      0.36      0.39        50\n",
            "\n",
            "    accuracy                           0.68       175\n",
            "   macro avg       0.59      0.58      0.59       175\n",
            "weighted avg       0.66      0.68      0.67       175\n",
            "\n"
          ]
        },
        {
          "name": "stderr",
          "output_type": "stream",
          "text": [
            "/Users/madhumitha/anaconda3/lib/python3.11/site-packages/sklearn/base.py:1151: DataConversionWarning:\n",
            "\n",
            "A column-vector y was passed when a 1d array was expected. Please change the shape of y to (n_samples,), for example using ravel().\n",
            "\n"
          ]
        },
        {
          "data": {
            "image/png": "[encoded data removed]",
            "text/plain": [
              "<Figure size 640x480 with 2 Axes>"
            ]
          },
          "metadata": {},
          "output_type": "display_data"
        }
      ],
      "source": [
        "rf = RandomForestClassifier(n_estimators=25, random_state=2018)\n",
        "rf.fit(X_train, y_train)\n",
        "rf_predicted = rf.predict(X_test)\n",
        "\n",
        "random_forest_score      = round(rf.score(X_train, y_train) * 100, 2)\n",
        "random_forest_score_test = round(rf.score(X_test, y_test) * 100, 2)\n",
        "\n",
        "print('Random Forest Score: ', random_forest_score)\n",
        "print('Random Forest Test Score: ', random_forest_score_test)\n",
        "print('Accuracy: ', accuracy_score(y_test,rf_predicted))\n",
        "print('\\nClassification report: \\n', classification_report(y_test,rf_predicted))\n",
        "\n",
        "g = sns.heatmap(confusion_matrix(y_test,rf_predicted), annot=True, fmt=\"d\")"
      ]
    },
    {
      "cell_type": "code",
      "execution_count": null,
      "id": "0f9c3306",
      "metadata": {
        "id": "0f9c3306",
        "outputId": "81fa8bf3-b30e-4b63-c8c6-7876ed89c1c8"
      },
      "outputs": [
        {
          "name": "stdout",
          "output_type": "stream",
          "text": [
            "              precision    recall  f1-score   support\n",
            "\n",
            "           1       0.89      0.44      0.59        88\n",
            "           2       0.33      0.83      0.47        29\n",
            "\n",
            "    accuracy                           0.54       117\n",
            "   macro avg       0.61      0.64      0.53       117\n",
            "weighted avg       0.75      0.54      0.56       117\n",
            "\n"
          ]
        },
        {
          "name": "stderr",
          "output_type": "stream",
          "text": [
            "/Users/madhumitha/anaconda3/lib/python3.11/site-packages/sklearn/utils/validation.py:1184: DataConversionWarning:\n",
            "\n",
            "A column-vector y was passed when a 1d array was expected. Please change the shape of y to (n_samples, ), for example using ravel().\n",
            "\n",
            "/Users/madhumitha/anaconda3/lib/python3.11/site-packages/sklearn/linear_model/_logistic.py:460: ConvergenceWarning:\n",
            "\n",
            "lbfgs failed to converge (status=1):\n",
            "STOP: TOTAL NO. of ITERATIONS REACHED LIMIT.\n",
            "\n",
            "Increase the number of iterations (max_iter) or scale the data as shown in:\n",
            "    https://scikit-learn.org/stable/modules/preprocessing.html\n",
            "Please also refer to the documentation for alternative solver options:\n",
            "    https://scikit-learn.org/stable/modules/linear_model.html#logistic-regression\n",
            "\n"
          ]
        }
      ],
      "source": [
        "from sklearn.linear_model import LogisticRegression\n",
        "from sklearn.model_selection import train_test_split\n",
        "from sklearn.metrics import classification_report\n",
        "\n",
        "# Assume X and y are your features and target variable\n",
        "X_train, X_test, y_train, y_test = train_test_split(X, y, test_size=0.2, random_state=42)\n",
        "\n",
        "# Create a logistic regression model with class weights\n",
        "model = LogisticRegression(class_weight='balanced')\n",
        "model.fit(X_train, y_train)\n",
        "y_pred = model.predict(X_test)\n",
        "\n",
        "# Evaluate the model\n",
        "print(classification_report(y_test, y_pred))\n"
      ]
    },
    {
      "cell_type": "code",
      "execution_count": null,
      "id": "c1368e3a",
      "metadata": {
        "id": "c1368e3a",
        "outputId": "9a225940-5173-46f8-ad04-a763d988cb09"
      },
      "outputs": [
        {
          "name": "stdout",
          "output_type": "stream",
          "text": [
            "              precision    recall  f1-score   support\n",
            "\n",
            "           1       0.78      0.78      0.78        88\n",
            "           2       0.34      0.34      0.34        29\n",
            "\n",
            "    accuracy                           0.68       117\n",
            "   macro avg       0.56      0.56      0.56       117\n",
            "weighted avg       0.68      0.68      0.68       117\n",
            "\n"
          ]
        },
        {
          "name": "stderr",
          "output_type": "stream",
          "text": [
            "/Users/madhumitha/anaconda3/lib/python3.11/site-packages/sklearn/base.py:1151: DataConversionWarning:\n",
            "\n",
            "A column-vector y was passed when a 1d array was expected. Please change the shape of y to (n_samples,), for example using ravel().\n",
            "\n"
          ]
        }
      ],
      "source": [
        "from sklearn.ensemble import RandomForestClassifier\n",
        "from sklearn.model_selection import train_test_split\n",
        "from sklearn.metrics import classification_report\n",
        "\n",
        "# Assume X and y are your features and target variable\n",
        "X_train, X_test, y_train, y_test = train_test_split(X, y, test_size=0.2, random_state=42)\n",
        "\n",
        "# Create a random forest model with class weights\n",
        "model = RandomForestClassifier(class_weight='balanced')\n",
        "model.fit(X_train, y_train)\n",
        "y_pred = model.predict(X_test)\n",
        "\n",
        "# Evaluate the model\n",
        "print(classification_report(y_test, y_pred))\n"
      ]
    },
    {
      "cell_type": "markdown",
      "id": "8bd8453a",
      "metadata": {
        "id": "8bd8453a"
      },
      "source": [
        "# Model Performance:\n",
        "\n",
        "## Logistic Regression:\n",
        "\n",
        "#### Mean Squared Error (MSE):\n",
        "0.2857142857142857\n",
        "\n",
        "#### Cross-Validation Accuracy:\n",
        "0.72\n",
        "\n",
        "#### Test Accuracy:\n",
        "0.71\n",
        "\n",
        "Precision, Recall, F1-score: Higher for class 1 than class 2, indicating an imbalance in class prediction accuracy.\n",
        "Interpretability: High. Logistic regression provides coefficients that can be easily interpreted to understand the relationship between features and the target variable.\n",
        "\n",
        "\n",
        "## Random Forest:\n",
        "\n",
        "#### Training Score: 100.0 (overfitting on training data)\n",
        "\n",
        "#### Test Accuracy: 0.68\n",
        "\n",
        "Precision, Recall, F1-score: Similar trends as logistic regression, with higher performance for class 1.\n",
        "Interpretability: Moderate. While random forests are less interpretable than logistic regression, feature importances can still provide insights into which features are most influential.\n",
        "\n",
        "## Interpretability:\n",
        "\n",
        "### Logistic Regression:\n",
        "Better for interpretability, as it provides clear insights into feature importance and their relationship with the target variable.\n",
        "\n",
        "### Random Forest:\n",
        "Less interpretable but provides feature importances which can be useful for understanding the data.\n",
        "\n",
        "### Performance:\n",
        "\n",
        "Both models have similar overall accuracy, but logistic regression slightly outperforms random forest in terms of cross-validation and test accuracy."
      ]
    },
    {
      "cell_type": "code",
      "execution_count": null,
      "id": "1a53cf2f",
      "metadata": {
        "id": "1a53cf2f"
      },
      "outputs": [],
      "source": []
    }
  ],
  "metadata": {
    "kernelspec": {
      "display_name": "Python 3 (ipykernel)",
      "language": "python",
      "name": "python3"
    },
    "language_info": {
      "codemirror_mode": {
        "name": "ipython",
        "version": 3
      },
      "file_extension": ".py",
      "mimetype": "text/x-python",
      "name": "python",
      "nbconvert_exporter": "python",
      "pygments_lexer": "ipython3",
      "version": "3.11.4"
    },
    "colab": {
      "provenance": []
    }
  },
  "nbformat": 4,
  "nbformat_minor": 5
}